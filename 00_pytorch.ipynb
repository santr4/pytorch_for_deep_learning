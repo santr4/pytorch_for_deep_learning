{
  "cells": [
    {
      "cell_type": "markdown",
      "metadata": {
        "colab_type": "text",
        "id": "view-in-github"
      },
      "source": [
        "<a href=\"https://colab.research.google.com/github/santr4/pytorch_for_deep_learning/blob/main/00_pytorch.ipynb\" target=\"_parent\"><img src=\"https://colab.research.google.com/assets/colab-badge.svg\" alt=\"Open In Colab\"/></a>"
      ]
    },
    {
      "cell_type": "code",
      "execution_count": 2,
      "metadata": {
        "colab": {
          "base_uri": "https://localhost:8080/"
        },
        "id": "TbzRgFUzpe4L",
        "outputId": "69571e59-3dde-4274-df5f-c22aed188f33"
      },
      "outputs": [
        {
          "name": "stdout",
          "output_type": "stream",
          "text": [
            "2.5.1+cu121\n"
          ]
        }
      ],
      "source": [
        "import torch\n",
        "import numpy as np\n",
        "import pandas as pd\n",
        "import matplotlib.pyplot as plt\n",
        "print(torch.__version__)"
      ]
    },
    {
      "cell_type": "code",
      "execution_count": 3,
      "metadata": {
        "colab": {
          "base_uri": "https://localhost:8080/"
        },
        "id": "H3BbOTyOqCaJ",
        "outputId": "9b114fcd-60ce-41b1-f305-f5fab594a36a"
      },
      "outputs": [
        {
          "name": "stdout",
          "output_type": "stream",
          "text": [
            "/bin/bash: line 1: nvidia-smi: command not found\n"
          ]
        }
      ],
      "source": [
        "!nvidia-smi"
      ]
    },
    {
      "cell_type": "markdown",
      "metadata": {
        "id": "fwUSVscHs0zZ"
      },
      "source": [
        "# Introduction to Tensors"
      ]
    },
    {
      "cell_type": "markdown",
      "metadata": {
        "id": "-xZpuTE3s7se"
      },
      "source": [
        "## creating tensors"
      ]
    },
    {
      "cell_type": "code",
      "execution_count": 4,
      "metadata": {
        "colab": {
          "base_uri": "https://localhost:8080/"
        },
        "id": "PtTgenw_sJNB",
        "outputId": "2d05a401-1bfd-4cb5-a3ef-a76a625604b9"
      },
      "outputs": [
        {
          "data": {
            "text/plain": [
              "tensor(7)"
            ]
          },
          "execution_count": 4,
          "metadata": {},
          "output_type": "execute_result"
        }
      ],
      "source": [
        "# scalar -> it is a 0D tensor which can contain anything like an integer, float, etc.\n",
        "scalar = torch.tensor(7)\n",
        "scalar"
      ]
    },
    {
      "cell_type": "code",
      "execution_count": 5,
      "metadata": {
        "colab": {
          "base_uri": "https://localhost:8080/"
        },
        "id": "yUqIkURwuc4L",
        "outputId": "058a3eff-bb88-43cc-a153-cc277b686294"
      },
      "outputs": [
        {
          "data": {
            "text/plain": [
              "0"
            ]
          },
          "execution_count": 5,
          "metadata": {},
          "output_type": "execute_result"
        }
      ],
      "source": [
        "scalar.ndim"
      ]
    },
    {
      "cell_type": "code",
      "execution_count": 6,
      "metadata": {
        "colab": {
          "base_uri": "https://localhost:8080/"
        },
        "id": "3NeYi8RqwUUr",
        "outputId": "afd25630-d3c0-4810-892f-6506551ea89b"
      },
      "outputs": [
        {
          "name": "stdout",
          "output_type": "stream",
          "text": [
            "0\n"
          ]
        }
      ],
      "source": [
        "var = np.array(3)\n",
        "print(var.ndim)"
      ]
    },
    {
      "cell_type": "code",
      "execution_count": 7,
      "metadata": {
        "colab": {
          "base_uri": "https://localhost:8080/"
        },
        "id": "rIkH37U0wYX6",
        "outputId": "b687fa28-b717-4e2c-ae1d-e5f4a3d40cde"
      },
      "outputs": [
        {
          "data": {
            "text/plain": [
              "7"
            ]
          },
          "execution_count": 7,
          "metadata": {},
          "output_type": "execute_result"
        }
      ],
      "source": [
        "# to get integer from tensor\n",
        "scalar.item()"
      ]
    },
    {
      "cell_type": "code",
      "execution_count": 8,
      "metadata": {
        "colab": {
          "base_uri": "https://localhost:8080/"
        },
        "id": "JgPv4uSHw4fJ",
        "outputId": "6e0f154c-a30c-49bb-8f8f-bc85c4ac1e8a"
      },
      "outputs": [
        {
          "data": {
            "text/plain": [
              "tensor([8, 6])"
            ]
          },
          "execution_count": 8,
          "metadata": {},
          "output_type": "execute_result"
        }
      ],
      "source": [
        "# vectors\n",
        "vector = torch.tensor([8,6])\n",
        "vector\n"
      ]
    },
    {
      "cell_type": "code",
      "execution_count": 9,
      "metadata": {
        "colab": {
          "base_uri": "https://localhost:8080/"
        },
        "id": "NTH6gH2Gxf-a",
        "outputId": "9a961dc9-48f6-4714-be40-51f5decab2cc"
      },
      "outputs": [
        {
          "data": {
            "text/plain": [
              "torch.Size([2])"
            ]
          },
          "execution_count": 9,
          "metadata": {},
          "output_type": "execute_result"
        }
      ],
      "source": [
        "vector.shape"
      ]
    },
    {
      "cell_type": "code",
      "execution_count": 10,
      "metadata": {
        "colab": {
          "base_uri": "https://localhost:8080/"
        },
        "id": "O24-Yo-kxitu",
        "outputId": "5b044e97-edd2-4363-9a2a-8419ce6186e5"
      },
      "outputs": [
        {
          "data": {
            "text/plain": [
              "1"
            ]
          },
          "execution_count": 10,
          "metadata": {},
          "output_type": "execute_result"
        }
      ],
      "source": [
        "# count the number of opening square brackets in the tensor that will give the dimensions of the tensor.\n",
        "vector.ndim\n"
      ]
    },
    {
      "cell_type": "markdown",
      "metadata": {
        "id": "guX-XIeIBONp"
      },
      "source": [
        " For matrix and tensors we use capital letters and for vectors and scalars we use small letters."
      ]
    },
    {
      "cell_type": "code",
      "execution_count": 11,
      "metadata": {
        "colab": {
          "base_uri": "https://localhost:8080/"
        },
        "id": "tHvj2YXlxl5l",
        "outputId": "6a009c47-948d-4c1a-853a-58698e04e1d5"
      },
      "outputs": [
        {
          "data": {
            "text/plain": [
              "tensor([[4, 5, 3],\n",
              "        [1, 2, 3]])"
            ]
          },
          "execution_count": 11,
          "metadata": {},
          "output_type": "execute_result"
        }
      ],
      "source": [
        "# matrix\n",
        "M = torch.tensor([[4,5,3],\n",
        "                  [1,2,3]])\n",
        "\n",
        "M"
      ]
    },
    {
      "cell_type": "code",
      "execution_count": 12,
      "metadata": {
        "colab": {
          "base_uri": "https://localhost:8080/"
        },
        "id": "SPXr5t4yy0Q8",
        "outputId": "1fdad296-8c9d-4814-e2a2-322f30022822"
      },
      "outputs": [
        {
          "data": {
            "text/plain": [
              "2"
            ]
          },
          "execution_count": 12,
          "metadata": {},
          "output_type": "execute_result"
        }
      ],
      "source": [
        "M.ndim"
      ]
    },
    {
      "cell_type": "code",
      "execution_count": 13,
      "metadata": {
        "colab": {
          "base_uri": "https://localhost:8080/"
        },
        "id": "mw5yeeE2y5Vf",
        "outputId": "c3cbc837-3079-47e3-9392-c91ae22fde78"
      },
      "outputs": [
        {
          "data": {
            "text/plain": [
              "torch.Size([2, 3])"
            ]
          },
          "execution_count": 13,
          "metadata": {},
          "output_type": "execute_result"
        }
      ],
      "source": [
        "M.shape"
      ]
    },
    {
      "cell_type": "code",
      "execution_count": 14,
      "metadata": {
        "colab": {
          "base_uri": "https://localhost:8080/"
        },
        "id": "SS-2_EzRy7oB",
        "outputId": "4f4114dd-8d5a-43e5-b1ff-29f567291cbe"
      },
      "outputs": [
        {
          "data": {
            "text/plain": [
              "tensor(3)"
            ]
          },
          "execution_count": 14,
          "metadata": {},
          "output_type": "execute_result"
        }
      ],
      "source": [
        "M[1][2]"
      ]
    },
    {
      "cell_type": "code",
      "execution_count": 15,
      "metadata": {
        "colab": {
          "base_uri": "https://localhost:8080/",
          "height": 35
        },
        "id": "Kvnv9H8CzJBa",
        "outputId": "d4c3b319-d953-4558-f50a-d157b162b8fd"
      },
      "outputs": [
        {
          "data": {
            "application/vnd.google.colaboratory.intrinsic+json": {
              "type": "string"
            },
            "text/plain": [
              "'torch.LongTensor'"
            ]
          },
          "execution_count": 15,
          "metadata": {},
          "output_type": "execute_result"
        }
      ],
      "source": [
        "v = M[1][2]\n",
        "v.type()"
      ]
    },
    {
      "cell_type": "code",
      "execution_count": 16,
      "metadata": {
        "colab": {
          "base_uri": "https://localhost:8080/"
        },
        "id": "Zz5NM4i4zZX8",
        "outputId": "e0651a02-598c-411b-ee71-36942222c73a"
      },
      "outputs": [
        {
          "data": {
            "text/plain": [
              "tensor([[[3, 4, 5],\n",
              "         [6, 7, 8],\n",
              "         [9, 8, 0]]])"
            ]
          },
          "execution_count": 16,
          "metadata": {},
          "output_type": "execute_result"
        }
      ],
      "source": [
        "# Tensors\n",
        "T = torch.tensor([[[3,4,5],\n",
        "                   [6,7,8],\n",
        "                   [9,8,0]]])\n",
        "T"
      ]
    },
    {
      "cell_type": "code",
      "execution_count": 17,
      "metadata": {
        "colab": {
          "base_uri": "https://localhost:8080/"
        },
        "id": "OYfKFZtw0TLd",
        "outputId": "9354b85a-35d7-4d09-f3d0-9545734e7ef7"
      },
      "outputs": [
        {
          "data": {
            "text/plain": [
              "3"
            ]
          },
          "execution_count": 17,
          "metadata": {},
          "output_type": "execute_result"
        }
      ],
      "source": [
        "T.ndim"
      ]
    },
    {
      "cell_type": "code",
      "execution_count": 18,
      "metadata": {
        "colab": {
          "base_uri": "https://localhost:8080/"
        },
        "id": "GEO82b2Q0xiW",
        "outputId": "061d2ae9-0f2b-4e9a-e773-0f97bb0a1f35"
      },
      "outputs": [
        {
          "data": {
            "text/plain": [
              "torch.Size([1, 3, 3])"
            ]
          },
          "execution_count": 18,
          "metadata": {},
          "output_type": "execute_result"
        }
      ],
      "source": [
        "T.shape"
      ]
    },
    {
      "cell_type": "markdown",
      "metadata": {
        "id": "tByaESQ8CYC0"
      },
      "source": [
        "### random tensors"
      ]
    },
    {
      "cell_type": "code",
      "execution_count": 19,
      "metadata": {
        "colab": {
          "base_uri": "https://localhost:8080/"
        },
        "id": "gdYTEMsg02zS",
        "outputId": "e8f2b600-8f7f-4bbc-aabc-c971f6774a02"
      },
      "outputs": [
        {
          "data": {
            "text/plain": [
              "tensor([[0.4995, 0.5285, 0.7868, 0.3917, 0.8052],\n",
              "        [0.6066, 0.3845, 0.9457, 0.5795, 0.0393],\n",
              "        [0.8615, 0.8994, 0.3648, 0.6056, 0.5615],\n",
              "        [0.0143, 0.9457, 0.6473, 0.7803, 0.8828]])"
            ]
          },
          "execution_count": 19,
          "metadata": {},
          "output_type": "execute_result"
        }
      ],
      "source": [
        "random_tensor = torch.rand(4,5)\n",
        "random_tensor"
      ]
    },
    {
      "cell_type": "code",
      "execution_count": 20,
      "metadata": {
        "colab": {
          "base_uri": "https://localhost:8080/"
        },
        "id": "l_G87PPcCogj",
        "outputId": "d618f095-258d-4431-a7fe-39a0f72c3968"
      },
      "outputs": [
        {
          "data": {
            "text/plain": [
              "2"
            ]
          },
          "execution_count": 20,
          "metadata": {},
          "output_type": "execute_result"
        }
      ],
      "source": [
        "random_tensor.ndim"
      ]
    },
    {
      "cell_type": "code",
      "execution_count": 21,
      "metadata": {
        "colab": {
          "base_uri": "https://localhost:8080/"
        },
        "id": "kNwRzz-GDfWF",
        "outputId": "131ea56b-4221-4497-d5e0-4779c6833dce"
      },
      "outputs": [
        {
          "data": {
            "text/plain": [
              "torch.Size([4, 5])"
            ]
          },
          "execution_count": 21,
          "metadata": {},
          "output_type": "execute_result"
        }
      ],
      "source": [
        "random_tensor.shape"
      ]
    },
    {
      "cell_type": "code",
      "execution_count": 22,
      "metadata": {
        "colab": {
          "base_uri": "https://localhost:8080/"
        },
        "id": "BCN6ZPG4DiVs",
        "outputId": "1853d38a-7fcc-47e2-a7c0-24e8cffb416e"
      },
      "outputs": [
        {
          "data": {
            "text/plain": [
              "(torch.Size([256, 256, 3]), 3)"
            ]
          },
          "execution_count": 22,
          "metadata": {},
          "output_type": "execute_result"
        }
      ],
      "source": [
        "# now lets see how we represent an image in tensor format.\n",
        "random_image_tensor = torch.rand(size=(256, 256, 3)) # 256 - height, 256 - width, 3 colors means 3 channels - RGB.\n",
        "random_image_tensor.shape, random_image_tensor.ndim"
      ]
    },
    {
      "cell_type": "code",
      "execution_count": 23,
      "metadata": {
        "colab": {
          "base_uri": "https://localhost:8080/"
        },
        "id": "VERLPFSAD8F_",
        "outputId": "34325184-d4b5-4855-c5e3-9c4ea50903e1"
      },
      "outputs": [
        {
          "data": {
            "text/plain": [
              "tensor([[[[0.2460, 0.2755, 0.7618, 0.2349]],\n",
              "\n",
              "         [[0.2895, 0.6619, 0.5716, 0.1978]]],\n",
              "\n",
              "\n",
              "        [[[0.2105, 0.5444, 0.4933, 0.3812]],\n",
              "\n",
              "         [[0.3953, 0.0961, 0.6841, 0.3612]]],\n",
              "\n",
              "\n",
              "        [[[0.8869, 0.7585, 0.6975, 0.1833]],\n",
              "\n",
              "         [[0.2160, 0.3479, 0.0346, 0.4464]]]])"
            ]
          },
          "execution_count": 23,
          "metadata": {},
          "output_type": "execute_result"
        }
      ],
      "source": [
        "T2 = torch.rand(3, 2, 1, 4)\n",
        "T2"
      ]
    },
    {
      "cell_type": "code",
      "execution_count": 24,
      "metadata": {
        "colab": {
          "base_uri": "https://localhost:8080/"
        },
        "id": "VK3qUh3BFPYG",
        "outputId": "40b6104f-6961-42b2-af89-fa7b254686f7"
      },
      "outputs": [
        {
          "data": {
            "text/plain": [
              "(4, torch.Size([3, 2, 1, 4]))"
            ]
          },
          "execution_count": 24,
          "metadata": {},
          "output_type": "execute_result"
        }
      ],
      "source": [
        "T2.ndim, T2.shape"
      ]
    },
    {
      "cell_type": "markdown",
      "metadata": {
        "id": "Obll6XCDGkt-"
      },
      "source": [
        "### Zeroes and Ones"
      ]
    },
    {
      "cell_type": "code",
      "execution_count": 25,
      "metadata": {
        "colab": {
          "base_uri": "https://localhost:8080/"
        },
        "id": "7nmVxBOUGCGd",
        "outputId": "5c7a1d59-d697-4d05-ad23-8bcc77477559"
      },
      "outputs": [
        {
          "data": {
            "text/plain": [
              "(tensor([[0., 0., 0., 0.],\n",
              "         [0., 0., 0., 0.],\n",
              "         [0., 0., 0., 0.]]),\n",
              " tensor([[1., 1., 1., 1.],\n",
              "         [1., 1., 1., 1.],\n",
              "         [1., 1., 1., 1.]]))"
            ]
          },
          "execution_count": 25,
          "metadata": {},
          "output_type": "execute_result"
        }
      ],
      "source": [
        "z = torch.zeros(3, 4)\n",
        "o = torch.ones(3, 4)\n",
        "z, o"
      ]
    },
    {
      "cell_type": "code",
      "execution_count": 26,
      "metadata": {
        "colab": {
          "base_uri": "https://localhost:8080/"
        },
        "id": "Pn3ZZ66GHBEA",
        "outputId": "a3d13269-3415-4466-fcc6-bc97def87fa6"
      },
      "outputs": [
        {
          "data": {
            "text/plain": [
              "torch.float32"
            ]
          },
          "execution_count": 26,
          "metadata": {},
          "output_type": "execute_result"
        }
      ],
      "source": [
        "z.dtype # default datatype is 32-bit integer."
      ]
    },
    {
      "cell_type": "code",
      "execution_count": 27,
      "metadata": {
        "colab": {
          "base_uri": "https://localhost:8080/"
        },
        "id": "ht2CJVPcHC36",
        "outputId": "9e04cdd3-c47e-40fd-ae5a-7c7c7a8944c5"
      },
      "outputs": [
        {
          "data": {
            "text/plain": [
              "tensor([[[1., 2., 3.],\n",
              "         [3., 6., 7.],\n",
              "         [4., 5., 6.]]])"
            ]
          },
          "execution_count": 27,
          "metadata": {},
          "output_type": "execute_result"
        }
      ],
      "source": [
        "V = torch.tensor([[[1,2,3],\n",
        "                  [3.0, 6.0, 7.0],\n",
        "                  [4,5,6]]])\n",
        "V"
      ]
    },
    {
      "cell_type": "code",
      "execution_count": 28,
      "metadata": {
        "colab": {
          "base_uri": "https://localhost:8080/"
        },
        "id": "ficZNOFzoe0z",
        "outputId": "f424b7e2-2bf6-4856-eb5a-f57ac47deb39"
      },
      "outputs": [
        {
          "data": {
            "text/plain": [
              "torch.Size([1, 3, 3])"
            ]
          },
          "execution_count": 28,
          "metadata": {},
          "output_type": "execute_result"
        }
      ],
      "source": [
        "V.shape"
      ]
    },
    {
      "cell_type": "code",
      "execution_count": 29,
      "metadata": {
        "colab": {
          "base_uri": "https://localhost:8080/"
        },
        "id": "WbHgOV7gof2j",
        "outputId": "785b4929-11ac-4596-912e-f704e0d9fcb5"
      },
      "outputs": [
        {
          "data": {
            "text/plain": [
              "3"
            ]
          },
          "execution_count": 29,
          "metadata": {},
          "output_type": "execute_result"
        }
      ],
      "source": [
        "V.ndim"
      ]
    },
    {
      "cell_type": "code",
      "execution_count": 30,
      "metadata": {
        "colab": {
          "base_uri": "https://localhost:8080/"
        },
        "id": "cC8QEJgsojNg",
        "outputId": "0b210743-722f-496e-db05-aec776a007dd"
      },
      "outputs": [
        {
          "data": {
            "text/plain": [
              "<function Tensor.size>"
            ]
          },
          "execution_count": 30,
          "metadata": {},
          "output_type": "execute_result"
        }
      ],
      "source": [
        "V.size  # it's a function."
      ]
    },
    {
      "cell_type": "code",
      "execution_count": 31,
      "metadata": {
        "colab": {
          "base_uri": "https://localhost:8080/"
        },
        "id": "r1wMrD6-omGQ",
        "outputId": "3128eacf-7317-4942-a9f3-9aeb81da9d5e"
      },
      "outputs": [
        {
          "name": "stdout",
          "output_type": "stream",
          "text": [
            "torch.float32\n"
          ]
        }
      ],
      "source": [
        "data_type = V.dtype\n",
        "print(data_type)"
      ]
    },
    {
      "cell_type": "markdown",
      "metadata": {
        "id": "mRMpliJ4OG07"
      },
      "source": [
        "### Random Tensors\n"
      ]
    },
    {
      "cell_type": "code",
      "execution_count": 32,
      "metadata": {
        "colab": {
          "base_uri": "https://localhost:8080/"
        },
        "id": "RMiIinCYOJqo",
        "outputId": "1ee63cff-9894-4c74-aa0d-2261bc566b5b"
      },
      "outputs": [
        {
          "data": {
            "text/plain": [
              "tensor([[[0.5376, 0.7587, 0.5079],\n",
              "         [0.1110, 0.0173, 0.2213],\n",
              "         [0.0520, 0.7347, 0.8629],\n",
              "         [0.3263, 0.7959, 0.2495]],\n",
              "\n",
              "        [[0.3217, 0.9846, 0.0346],\n",
              "         [0.4177, 0.9148, 0.4932],\n",
              "         [0.0982, 0.7732, 0.4667],\n",
              "         [0.1376, 0.9838, 0.3216]]])"
            ]
          },
          "execution_count": 32,
          "metadata": {},
          "output_type": "execute_result"
        }
      ],
      "source": [
        "random_tensor = torch.rand(size=(2,4,3))\n",
        "random_tensor\n"
      ]
    },
    {
      "cell_type": "code",
      "execution_count": 33,
      "metadata": {
        "colab": {
          "base_uri": "https://localhost:8080/"
        },
        "id": "0xIAhuTFOTi3",
        "outputId": "ea29519a-2f68-4066-eaff-37708f20b005"
      },
      "outputs": [
        {
          "data": {
            "text/plain": [
              "torch.float32"
            ]
          },
          "execution_count": 33,
          "metadata": {},
          "output_type": "execute_result"
        }
      ],
      "source": [
        "random_tensor.dtype"
      ]
    },
    {
      "cell_type": "code",
      "execution_count": 34,
      "metadata": {
        "colab": {
          "base_uri": "https://localhost:8080/"
        },
        "id": "U-2ABfoVZv7l",
        "outputId": "8cddbbb7-2251-4858-b63e-c32efb7dceb8"
      },
      "outputs": [
        {
          "data": {
            "text/plain": [
              "tensor([[-6.2567e+31,  4.3536e-41],\n",
              "        [-6.2567e+31,  4.3536e-41],\n",
              "        [ 4.4842e-44,  0.0000e+00]])"
            ]
          },
          "execution_count": 34,
          "metadata": {},
          "output_type": "execute_result"
        }
      ],
      "source": [
        "B1 = torch.empty(3,2)\n",
        "B1"
      ]
    },
    {
      "cell_type": "code",
      "execution_count": 35,
      "metadata": {
        "colab": {
          "base_uri": "https://localhost:8080/"
        },
        "id": "TesdF8QuZ1Ee",
        "outputId": "a0da7342-9d76-4a5f-821a-dca54448484c"
      },
      "outputs": [
        {
          "data": {
            "text/plain": [
              "tensor([[0., 0.],\n",
              "        [0., 0.],\n",
              "        [0., 0.]])"
            ]
          },
          "execution_count": 35,
          "metadata": {},
          "output_type": "execute_result"
        }
      ],
      "source": [
        "B1_zeros = torch.zeros_like(B1)\n",
        "B1_zeros"
      ]
    },
    {
      "cell_type": "code",
      "execution_count": 36,
      "metadata": {
        "colab": {
          "base_uri": "https://localhost:8080/"
        },
        "id": "RApCTH3Uan1Y",
        "outputId": "275c6935-6c67-4803-da03-d7d7cd864f9f"
      },
      "outputs": [
        {
          "data": {
            "text/plain": [
              "tensor([1, 3, 5, 7, 9])"
            ]
          },
          "execution_count": 36,
          "metadata": {},
          "output_type": "execute_result"
        }
      ],
      "source": [
        "B2 = torch.arange(start=1, end = 11, step =  2)\n",
        "B2"
      ]
    },
    {
      "cell_type": "code",
      "execution_count": 37,
      "metadata": {
        "id": "7M-NdmgkbAyG"
      },
      "outputs": [],
      "source": [
        "B3 = torch.tensor([3.0, 6.0, 9.0], dtype = None, device = None, requires_grad = False)"
      ]
    },
    {
      "cell_type": "code",
      "execution_count": 38,
      "metadata": {
        "colab": {
          "base_uri": "https://localhost:8080/"
        },
        "id": "QUBFe1WMcdCH",
        "outputId": "880e584f-b92b-4599-f968-5f2978722277"
      },
      "outputs": [
        {
          "data": {
            "text/plain": [
              "torch.float32"
            ]
          },
          "execution_count": 38,
          "metadata": {},
          "output_type": "execute_result"
        }
      ],
      "source": [
        "B3.dtype"
      ]
    },
    {
      "cell_type": "code",
      "execution_count": 39,
      "metadata": {
        "colab": {
          "base_uri": "https://localhost:8080/"
        },
        "id": "7o1_bpalhyC7",
        "outputId": "a5f6c835-01ea-459f-f639-56004caeae8f"
      },
      "outputs": [
        {
          "data": {
            "text/plain": [
              "tensor([3., 6., 9.], dtype=torch.float16)"
            ]
          },
          "execution_count": 39,
          "metadata": {},
          "output_type": "execute_result"
        }
      ],
      "source": [
        "B3 = B3.type(torch.float16)\n",
        "B3"
      ]
    },
    {
      "cell_type": "code",
      "execution_count": 40,
      "metadata": {
        "id": "L8nk7V74iCCy"
      },
      "outputs": [],
      "source": [
        "B4 = torch.tensor([1,2,3], dtype=torch.uint8)"
      ]
    },
    {
      "cell_type": "code",
      "execution_count": 41,
      "metadata": {
        "colab": {
          "base_uri": "https://localhost:8080/"
        },
        "id": "3MTlTke2jx9u",
        "outputId": "7ac21ef5-d524-4be3-f0bc-e21fdf8d35bb"
      },
      "outputs": [
        {
          "data": {
            "text/plain": [
              "tensor([ 3., 12., 27.], dtype=torch.float16)"
            ]
          },
          "execution_count": 41,
          "metadata": {},
          "output_type": "execute_result"
        }
      ],
      "source": [
        "B3 * B4  # here tensors with two different data types are getting multiplied together."
      ]
    },
    {
      "cell_type": "markdown",
      "metadata": {
        "id": "txOsRGEBmBBu"
      },
      "source": [
        "### Manipulating tensors"
      ]
    },
    {
      "cell_type": "code",
      "execution_count": 42,
      "metadata": {
        "colab": {
          "base_uri": "https://localhost:8080/"
        },
        "id": "3Qu4xu_-kF9Q",
        "outputId": "c2fee932-aeeb-4d81-b1b6-d5d885aece96"
      },
      "outputs": [
        {
          "data": {
            "text/plain": [
              "tensor([11, 13, 14])"
            ]
          },
          "execution_count": 42,
          "metadata": {},
          "output_type": "execute_result"
        }
      ],
      "source": [
        "sample_tensor = torch.tensor([1,3,4])\n",
        "# Addition\n",
        "sample_tensor + 10"
      ]
    },
    {
      "cell_type": "code",
      "execution_count": 43,
      "metadata": {
        "colab": {
          "base_uri": "https://localhost:8080/"
        },
        "id": "SBVe9RzXm5VC",
        "outputId": "17bb0e49-66c7-46fe-875b-09bcc2f5b99c"
      },
      "outputs": [
        {
          "data": {
            "text/plain": [
              "tensor([-9, -7, -6])"
            ]
          },
          "execution_count": 43,
          "metadata": {},
          "output_type": "execute_result"
        }
      ],
      "source": [
        "# Subtraction\n",
        "sample_tensor - 10"
      ]
    },
    {
      "cell_type": "code",
      "execution_count": 44,
      "metadata": {
        "colab": {
          "base_uri": "https://localhost:8080/"
        },
        "id": "c6NwHc_SnRNJ",
        "outputId": "a7d2d5fc-de2f-417c-f0f6-1c39b1c66652"
      },
      "outputs": [
        {
          "data": {
            "text/plain": [
              "tensor([10, 30, 40])"
            ]
          },
          "execution_count": 44,
          "metadata": {},
          "output_type": "execute_result"
        }
      ],
      "source": [
        "# Multiplication\n",
        "sample_tensor * 10\n"
      ]
    },
    {
      "cell_type": "code",
      "execution_count": 45,
      "metadata": {
        "colab": {
          "base_uri": "https://localhost:8080/"
        },
        "id": "Xd6X7XernTWu",
        "outputId": "3411337f-febf-4d35-adaf-eacb9a83798e"
      },
      "outputs": [
        {
          "data": {
            "text/plain": [
              "tensor([0.1000, 0.3000, 0.4000])"
            ]
          },
          "execution_count": 45,
          "metadata": {},
          "output_type": "execute_result"
        }
      ],
      "source": [
        "# Division\n",
        "sample_tensor / 10"
      ]
    },
    {
      "cell_type": "code",
      "execution_count": 46,
      "metadata": {
        "colab": {
          "base_uri": "https://localhost:8080/"
        },
        "id": "VYFbW3A8nVv_",
        "outputId": "90687196-50e7-46d0-935a-b6f9f99bdccf"
      },
      "outputs": [
        {
          "data": {
            "text/plain": [
              "tensor([1, 4, 9])"
            ]
          },
          "execution_count": 46,
          "metadata": {},
          "output_type": "execute_result"
        }
      ],
      "source": [
        "# Element Multiplication\n",
        "some_tensor = torch.tensor([1, 2, 3])\n",
        "some_tensor * some_tensor\n"
      ]
    },
    {
      "cell_type": "code",
      "execution_count": 47,
      "metadata": {
        "colab": {
          "base_uri": "https://localhost:8080/"
        },
        "id": "ANASwbEIpYT6",
        "outputId": "d916a644-997c-4cae-dd71-a9c0bb1e71b5"
      },
      "outputs": [
        {
          "data": {
            "text/plain": [
              "tensor(14)"
            ]
          },
          "execution_count": 47,
          "metadata": {},
          "output_type": "execute_result"
        }
      ],
      "source": [
        "# Matrix Multiplication or Dot Product\n",
        "some_tensor.matmul(some_tensor)"
      ]
    },
    {
      "cell_type": "code",
      "execution_count": 48,
      "metadata": {
        "colab": {
          "base_uri": "https://localhost:8080/"
        },
        "id": "TxuqOLrdpgat",
        "outputId": "19b1fad9-ffc2-44bb-fdc2-8a48d475098a"
      },
      "outputs": [
        {
          "name": "stdout",
          "output_type": "stream",
          "text": [
            "CPU times: user 553 µs, sys: 0 ns, total: 553 µs\n",
            "Wall time: 1.2 ms\n"
          ]
        },
        {
          "data": {
            "text/plain": [
              "tensor(14)"
            ]
          },
          "execution_count": 48,
          "metadata": {},
          "output_type": "execute_result"
        }
      ],
      "source": [
        "%%time\n",
        "v = 0\n",
        "for i in range(len(some_tensor)):\n",
        "  v += some_tensor[i] * some_tensor[i]\n",
        "v"
      ]
    },
    {
      "cell_type": "code",
      "execution_count": 49,
      "metadata": {
        "colab": {
          "base_uri": "https://localhost:8080/"
        },
        "id": "LgoGaw77rfoO",
        "outputId": "58f4b727-7c7b-4982-eb2b-ddb36c0ebc95"
      },
      "outputs": [
        {
          "name": "stdout",
          "output_type": "stream",
          "text": [
            "CPU times: user 95 µs, sys: 13 µs, total: 108 µs\n",
            "Wall time: 113 µs\n"
          ]
        },
        {
          "data": {
            "text/plain": [
              "tensor(14)"
            ]
          },
          "execution_count": 49,
          "metadata": {},
          "output_type": "execute_result"
        }
      ],
      "source": [
        "%%time\n",
        "torch.matmul(some_tensor, some_tensor)"
      ]
    },
    {
      "cell_type": "code",
      "execution_count": 50,
      "metadata": {
        "colab": {
          "base_uri": "https://localhost:8080/"
        },
        "id": "nDov_99_rlzT",
        "outputId": "5b4c70da-f119-468f-efbc-64d2cf721602"
      },
      "outputs": [
        {
          "data": {
            "text/plain": [
              "tensor([[0.6571, 0.5605, 0.4646, 0.3590],\n",
              "        [0.0587, 0.0423, 0.0437, 0.0362],\n",
              "        [0.6903, 0.6705, 0.4652, 0.3339]])"
            ]
          },
          "execution_count": 50,
          "metadata": {},
          "output_type": "execute_result"
        }
      ],
      "source": [
        "torch.matmul(torch.rand(3,2), torch.rand(2,4))"
      ]
    },
    {
      "cell_type": "code",
      "execution_count": 51,
      "metadata": {
        "colab": {
          "base_uri": "https://localhost:8080/"
        },
        "id": "BK_bSYC3wZOz",
        "outputId": "adc5c932-7cc4-4f30-9ce0-81a008736a3f"
      },
      "outputs": [
        {
          "data": {
            "text/plain": [
              "torch.Size([2, 3])"
            ]
          },
          "execution_count": 51,
          "metadata": {},
          "output_type": "execute_result"
        }
      ],
      "source": [
        "# One of the common ways you can remove the errors in matrix multiplication is using transpose\n",
        "C1 = torch.tensor([[1,2,2],\n",
        "                  [2,3,4]])\n",
        "C1.shape"
      ]
    },
    {
      "cell_type": "code",
      "execution_count": 52,
      "metadata": {
        "colab": {
          "base_uri": "https://localhost:8080/"
        },
        "id": "5h28jc5TyGRA",
        "outputId": "974ede8a-9d89-404c-a0b7-ed95305a1a74"
      },
      "outputs": [
        {
          "data": {
            "text/plain": [
              "torch.Size([2, 3])"
            ]
          },
          "execution_count": 52,
          "metadata": {},
          "output_type": "execute_result"
        }
      ],
      "source": [
        "C2 = torch.tensor([[5,6,7],\n",
        "                   [7,8,9]])\n",
        "C2.shape"
      ]
    },
    {
      "cell_type": "code",
      "execution_count": 53,
      "metadata": {
        "colab": {
          "base_uri": "https://localhost:8080/"
        },
        "id": "dRiFQyP8yWr7",
        "outputId": "9e0d1f6b-7d2d-45dc-b2db-024e56c2f501"
      },
      "outputs": [
        {
          "data": {
            "text/plain": [
              "tensor([[31, 41],\n",
              "        [56, 74]])"
            ]
          },
          "execution_count": 53,
          "metadata": {},
          "output_type": "execute_result"
        }
      ],
      "source": [
        "# torch.matmul(c1, c2) -> this will throw error as the inner dimensions dont match\n",
        "torch.matmul(C1, C2.T)"
      ]
    },
    {
      "cell_type": "code",
      "execution_count": 54,
      "metadata": {
        "colab": {
          "base_uri": "https://localhost:8080/"
        },
        "id": "W5BUQRUzysr8",
        "outputId": "e2dcfc36-8486-4539-c385-6e0eef96476a"
      },
      "outputs": [
        {
          "data": {
            "text/plain": [
              "(tensor([[5, 7],\n",
              "         [6, 8],\n",
              "         [7, 9]]),\n",
              " torch.Size([3, 2]))"
            ]
          },
          "execution_count": 54,
          "metadata": {},
          "output_type": "execute_result"
        }
      ],
      "source": [
        "C2.T, C2.T.shape"
      ]
    },
    {
      "cell_type": "code",
      "execution_count": 55,
      "metadata": {
        "colab": {
          "base_uri": "https://localhost:8080/"
        },
        "id": "lAYgzvoSyxKS",
        "outputId": "2fd32365-89dd-4836-87d5-d3237a6013c6"
      },
      "outputs": [
        {
          "data": {
            "text/plain": [
              "tensor([ 0, 10, 20, 30, 40, 50, 60, 70, 80, 90])"
            ]
          },
          "execution_count": 55,
          "metadata": {},
          "output_type": "execute_result"
        }
      ],
      "source": [
        "x = torch.arange(0, 100, 10)\n",
        "x"
      ]
    },
    {
      "cell_type": "code",
      "execution_count": 56,
      "metadata": {
        "colab": {
          "base_uri": "https://localhost:8080/"
        },
        "id": "yYKGH5Q6q2DT",
        "outputId": "a3ec21a5-1298-40a1-e57d-336befa4de0e"
      },
      "outputs": [
        {
          "data": {
            "text/plain": [
              "tensor(0)"
            ]
          },
          "execution_count": 56,
          "metadata": {},
          "output_type": "execute_result"
        }
      ],
      "source": [
        "x.min()"
      ]
    },
    {
      "cell_type": "code",
      "execution_count": 57,
      "metadata": {
        "colab": {
          "base_uri": "https://localhost:8080/"
        },
        "id": "1_gzqRhTq9kW",
        "outputId": "a5c9e981-37d4-4c9c-cb4c-f329335d763e"
      },
      "outputs": [
        {
          "data": {
            "text/plain": [
              "tensor(90)"
            ]
          },
          "execution_count": 57,
          "metadata": {},
          "output_type": "execute_result"
        }
      ],
      "source": [
        "torch.max(x)"
      ]
    },
    {
      "cell_type": "code",
      "execution_count": 58,
      "metadata": {
        "colab": {
          "base_uri": "https://localhost:8080/"
        },
        "id": "7ls4TeYGq_xa",
        "outputId": "c0806aa4-c8b7-48d7-f7c0-e7863d4356e5"
      },
      "outputs": [
        {
          "data": {
            "text/plain": [
              "tensor(45.)"
            ]
          },
          "execution_count": 58,
          "metadata": {},
          "output_type": "execute_result"
        }
      ],
      "source": [
        "torch.mean(x.type(torch.float32))"
      ]
    },
    {
      "cell_type": "code",
      "execution_count": null,
      "metadata": {
        "id": "zlDUqgnuruhX"
      },
      "outputs": [],
      "source": []
    }
  ],
  "metadata": {
    "colab": {
      "authorship_tag": "ABX9TyMAYRrJoertr2W2lsz6tK0O",
      "include_colab_link": true,
      "provenance": []
    },
    "kernelspec": {
      "display_name": "Python 3",
      "name": "python3"
    },
    "language_info": {
      "name": "python"
    }
  },
  "nbformat": 4,
  "nbformat_minor": 0
}
