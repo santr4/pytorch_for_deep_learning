{
  "nbformat": 4,
  "nbformat_minor": 0,
  "metadata": {
    "colab": {
      "provenance": [],
      "authorship_tag": "ABX9TyMAYRrJoertr2W2lsz6tK0O",
      "include_colab_link": true
    },
    "kernelspec": {
      "name": "python3",
      "display_name": "Python 3"
    },
    "language_info": {
      "name": "python"
    }
  },
  "cells": [
    {
      "cell_type": "markdown",
      "metadata": {
        "id": "view-in-github",
        "colab_type": "text"
      },
      "source": [
        "<a href=\"https://colab.research.google.com/github/santr4/pytorch_for_deep_learning/blob/main/00_pytorch.ipynb\" target=\"_parent\"><img src=\"https://colab.research.google.com/assets/colab-badge.svg\" alt=\"Open In Colab\"/></a>"
      ]
    },
    {
      "cell_type": "code",
      "execution_count": 2,
      "metadata": {
        "colab": {
          "base_uri": "https://localhost:8080/"
        },
        "id": "TbzRgFUzpe4L",
        "outputId": "69571e59-3dde-4274-df5f-c22aed188f33"
      },
      "outputs": [
        {
          "output_type": "stream",
          "name": "stdout",
          "text": [
            "2.5.1+cu121\n"
          ]
        }
      ],
      "source": [
        "import torch\n",
        "import numpy as np\n",
        "import pandas as pd\n",
        "import matplotlib.pyplot as plt\n",
        "print(torch.__version__)"
      ]
    },
    {
      "cell_type": "code",
      "source": [
        "!nvidia-smi"
      ],
      "metadata": {
        "colab": {
          "base_uri": "https://localhost:8080/"
        },
        "id": "H3BbOTyOqCaJ",
        "outputId": "9b114fcd-60ce-41b1-f305-f5fab594a36a"
      },
      "execution_count": 3,
      "outputs": [
        {
          "output_type": "stream",
          "name": "stdout",
          "text": [
            "/bin/bash: line 1: nvidia-smi: command not found\n"
          ]
        }
      ]
    },
    {
      "cell_type": "markdown",
      "source": [
        "# Introduction to Tensors"
      ],
      "metadata": {
        "id": "fwUSVscHs0zZ"
      }
    },
    {
      "cell_type": "markdown",
      "source": [
        "## creating tensors"
      ],
      "metadata": {
        "id": "-xZpuTE3s7se"
      }
    },
    {
      "cell_type": "code",
      "source": [
        "# scalar -> it is a 0D tensor which can contain anything like an integer, float, etc.\n",
        "scalar = torch.tensor(7)\n",
        "scalar"
      ],
      "metadata": {
        "colab": {
          "base_uri": "https://localhost:8080/"
        },
        "id": "PtTgenw_sJNB",
        "outputId": "2d05a401-1bfd-4cb5-a3ef-a76a625604b9"
      },
      "execution_count": 4,
      "outputs": [
        {
          "output_type": "execute_result",
          "data": {
            "text/plain": [
              "tensor(7)"
            ]
          },
          "metadata": {},
          "execution_count": 4
        }
      ]
    },
    {
      "cell_type": "code",
      "source": [
        "scalar.ndim"
      ],
      "metadata": {
        "colab": {
          "base_uri": "https://localhost:8080/"
        },
        "id": "yUqIkURwuc4L",
        "outputId": "058a3eff-bb88-43cc-a153-cc277b686294"
      },
      "execution_count": 5,
      "outputs": [
        {
          "output_type": "execute_result",
          "data": {
            "text/plain": [
              "0"
            ]
          },
          "metadata": {},
          "execution_count": 5
        }
      ]
    },
    {
      "cell_type": "code",
      "source": [
        "var = np.array(3)\n",
        "print(var.ndim)"
      ],
      "metadata": {
        "colab": {
          "base_uri": "https://localhost:8080/"
        },
        "id": "3NeYi8RqwUUr",
        "outputId": "afd25630-d3c0-4810-892f-6506551ea89b"
      },
      "execution_count": 6,
      "outputs": [
        {
          "output_type": "stream",
          "name": "stdout",
          "text": [
            "0\n"
          ]
        }
      ]
    },
    {
      "cell_type": "code",
      "source": [
        "# to get integer from tensor\n",
        "scalar.item()"
      ],
      "metadata": {
        "colab": {
          "base_uri": "https://localhost:8080/"
        },
        "id": "rIkH37U0wYX6",
        "outputId": "b687fa28-b717-4e2c-ae1d-e5f4a3d40cde"
      },
      "execution_count": 7,
      "outputs": [
        {
          "output_type": "execute_result",
          "data": {
            "text/plain": [
              "7"
            ]
          },
          "metadata": {},
          "execution_count": 7
        }
      ]
    },
    {
      "cell_type": "code",
      "source": [
        "# vectors\n",
        "vector = torch.tensor([8,6])\n",
        "vector\n"
      ],
      "metadata": {
        "colab": {
          "base_uri": "https://localhost:8080/"
        },
        "id": "JgPv4uSHw4fJ",
        "outputId": "6e0f154c-a30c-49bb-8f8f-bc85c4ac1e8a"
      },
      "execution_count": 8,
      "outputs": [
        {
          "output_type": "execute_result",
          "data": {
            "text/plain": [
              "tensor([8, 6])"
            ]
          },
          "metadata": {},
          "execution_count": 8
        }
      ]
    },
    {
      "cell_type": "code",
      "source": [
        "vector.shape"
      ],
      "metadata": {
        "colab": {
          "base_uri": "https://localhost:8080/"
        },
        "id": "NTH6gH2Gxf-a",
        "outputId": "9a961dc9-48f6-4714-be40-51f5decab2cc"
      },
      "execution_count": 9,
      "outputs": [
        {
          "output_type": "execute_result",
          "data": {
            "text/plain": [
              "torch.Size([2])"
            ]
          },
          "metadata": {},
          "execution_count": 9
        }
      ]
    },
    {
      "cell_type": "code",
      "source": [
        "# count the number of opening square brackets in the tensor that will give the dimensions of the tensor.\n",
        "vector.ndim\n"
      ],
      "metadata": {
        "colab": {
          "base_uri": "https://localhost:8080/"
        },
        "id": "O24-Yo-kxitu",
        "outputId": "5b044e97-edd2-4363-9a2a-8419ce6186e5"
      },
      "execution_count": 10,
      "outputs": [
        {
          "output_type": "execute_result",
          "data": {
            "text/plain": [
              "1"
            ]
          },
          "metadata": {},
          "execution_count": 10
        }
      ]
    },
    {
      "cell_type": "markdown",
      "source": [
        " For matrix and tensors we use capital letters and for vectors and scalars we use small letters."
      ],
      "metadata": {
        "id": "guX-XIeIBONp"
      }
    },
    {
      "cell_type": "code",
      "source": [
        "# matrix\n",
        "M = torch.tensor([[4,5,3],\n",
        "                  [1,2,3]])\n",
        "\n",
        "M"
      ],
      "metadata": {
        "colab": {
          "base_uri": "https://localhost:8080/"
        },
        "id": "tHvj2YXlxl5l",
        "outputId": "6a009c47-948d-4c1a-853a-58698e04e1d5"
      },
      "execution_count": 11,
      "outputs": [
        {
          "output_type": "execute_result",
          "data": {
            "text/plain": [
              "tensor([[4, 5, 3],\n",
              "        [1, 2, 3]])"
            ]
          },
          "metadata": {},
          "execution_count": 11
        }
      ]
    },
    {
      "cell_type": "code",
      "source": [
        "M.ndim"
      ],
      "metadata": {
        "colab": {
          "base_uri": "https://localhost:8080/"
        },
        "id": "SPXr5t4yy0Q8",
        "outputId": "1fdad296-8c9d-4814-e2a2-322f30022822"
      },
      "execution_count": 12,
      "outputs": [
        {
          "output_type": "execute_result",
          "data": {
            "text/plain": [
              "2"
            ]
          },
          "metadata": {},
          "execution_count": 12
        }
      ]
    },
    {
      "cell_type": "code",
      "source": [
        "M.shape"
      ],
      "metadata": {
        "colab": {
          "base_uri": "https://localhost:8080/"
        },
        "id": "mw5yeeE2y5Vf",
        "outputId": "c3cbc837-3079-47e3-9392-c91ae22fde78"
      },
      "execution_count": 13,
      "outputs": [
        {
          "output_type": "execute_result",
          "data": {
            "text/plain": [
              "torch.Size([2, 3])"
            ]
          },
          "metadata": {},
          "execution_count": 13
        }
      ]
    },
    {
      "cell_type": "code",
      "source": [
        "M[1][2]"
      ],
      "metadata": {
        "colab": {
          "base_uri": "https://localhost:8080/"
        },
        "id": "SS-2_EzRy7oB",
        "outputId": "4f4114dd-8d5a-43e5-b1ff-29f567291cbe"
      },
      "execution_count": 14,
      "outputs": [
        {
          "output_type": "execute_result",
          "data": {
            "text/plain": [
              "tensor(3)"
            ]
          },
          "metadata": {},
          "execution_count": 14
        }
      ]
    },
    {
      "cell_type": "code",
      "source": [
        "v = M[1][2]\n",
        "v.type()"
      ],
      "metadata": {
        "colab": {
          "base_uri": "https://localhost:8080/",
          "height": 35
        },
        "id": "Kvnv9H8CzJBa",
        "outputId": "d4c3b319-d953-4558-f50a-d157b162b8fd"
      },
      "execution_count": 15,
      "outputs": [
        {
          "output_type": "execute_result",
          "data": {
            "text/plain": [
              "'torch.LongTensor'"
            ],
            "application/vnd.google.colaboratory.intrinsic+json": {
              "type": "string"
            }
          },
          "metadata": {},
          "execution_count": 15
        }
      ]
    },
    {
      "cell_type": "code",
      "source": [
        "# Tensors\n",
        "T = torch.tensor([[[3,4,5],\n",
        "                   [6,7,8],\n",
        "                   [9,8,0]]])\n",
        "T"
      ],
      "metadata": {
        "colab": {
          "base_uri": "https://localhost:8080/"
        },
        "id": "Zz5NM4i4zZX8",
        "outputId": "e0651a02-598c-411b-ee71-36942222c73a"
      },
      "execution_count": 16,
      "outputs": [
        {
          "output_type": "execute_result",
          "data": {
            "text/plain": [
              "tensor([[[3, 4, 5],\n",
              "         [6, 7, 8],\n",
              "         [9, 8, 0]]])"
            ]
          },
          "metadata": {},
          "execution_count": 16
        }
      ]
    },
    {
      "cell_type": "code",
      "source": [
        "T.ndim"
      ],
      "metadata": {
        "colab": {
          "base_uri": "https://localhost:8080/"
        },
        "id": "OYfKFZtw0TLd",
        "outputId": "9354b85a-35d7-4d09-f3d0-9545734e7ef7"
      },
      "execution_count": 17,
      "outputs": [
        {
          "output_type": "execute_result",
          "data": {
            "text/plain": [
              "3"
            ]
          },
          "metadata": {},
          "execution_count": 17
        }
      ]
    },
    {
      "cell_type": "code",
      "source": [
        "T.shape"
      ],
      "metadata": {
        "colab": {
          "base_uri": "https://localhost:8080/"
        },
        "id": "GEO82b2Q0xiW",
        "outputId": "061d2ae9-0f2b-4e9a-e773-0f97bb0a1f35"
      },
      "execution_count": 18,
      "outputs": [
        {
          "output_type": "execute_result",
          "data": {
            "text/plain": [
              "torch.Size([1, 3, 3])"
            ]
          },
          "metadata": {},
          "execution_count": 18
        }
      ]
    },
    {
      "cell_type": "markdown",
      "source": [
        "### random tensors"
      ],
      "metadata": {
        "id": "tByaESQ8CYC0"
      }
    },
    {
      "cell_type": "code",
      "source": [
        "random_tensor = torch.rand(4,5)\n",
        "random_tensor"
      ],
      "metadata": {
        "id": "gdYTEMsg02zS",
        "colab": {
          "base_uri": "https://localhost:8080/"
        },
        "outputId": "e8f2b600-8f7f-4bbc-aabc-c971f6774a02"
      },
      "execution_count": 19,
      "outputs": [
        {
          "output_type": "execute_result",
          "data": {
            "text/plain": [
              "tensor([[0.4995, 0.5285, 0.7868, 0.3917, 0.8052],\n",
              "        [0.6066, 0.3845, 0.9457, 0.5795, 0.0393],\n",
              "        [0.8615, 0.8994, 0.3648, 0.6056, 0.5615],\n",
              "        [0.0143, 0.9457, 0.6473, 0.7803, 0.8828]])"
            ]
          },
          "metadata": {},
          "execution_count": 19
        }
      ]
    },
    {
      "cell_type": "code",
      "source": [
        "random_tensor.ndim"
      ],
      "metadata": {
        "colab": {
          "base_uri": "https://localhost:8080/"
        },
        "id": "l_G87PPcCogj",
        "outputId": "d618f095-258d-4431-a7fe-39a0f72c3968"
      },
      "execution_count": 20,
      "outputs": [
        {
          "output_type": "execute_result",
          "data": {
            "text/plain": [
              "2"
            ]
          },
          "metadata": {},
          "execution_count": 20
        }
      ]
    },
    {
      "cell_type": "code",
      "source": [
        "random_tensor.shape"
      ],
      "metadata": {
        "colab": {
          "base_uri": "https://localhost:8080/"
        },
        "id": "kNwRzz-GDfWF",
        "outputId": "131ea56b-4221-4497-d5e0-4779c6833dce"
      },
      "execution_count": 21,
      "outputs": [
        {
          "output_type": "execute_result",
          "data": {
            "text/plain": [
              "torch.Size([4, 5])"
            ]
          },
          "metadata": {},
          "execution_count": 21
        }
      ]
    },
    {
      "cell_type": "code",
      "source": [
        "# now lets see how we represent an image in tensor format.\n",
        "random_image_tensor = torch.rand(size=(256, 256, 3)) # 256 - height, 256 - width, 3 colors means 3 channels - RGB.\n",
        "random_image_tensor.shape, random_image_tensor.ndim"
      ],
      "metadata": {
        "colab": {
          "base_uri": "https://localhost:8080/"
        },
        "id": "BCN6ZPG4DiVs",
        "outputId": "1853d38a-7fcc-47e2-a7c0-24e8cffb416e"
      },
      "execution_count": 22,
      "outputs": [
        {
          "output_type": "execute_result",
          "data": {
            "text/plain": [
              "(torch.Size([256, 256, 3]), 3)"
            ]
          },
          "metadata": {},
          "execution_count": 22
        }
      ]
    },
    {
      "cell_type": "code",
      "source": [
        "T2 = torch.rand(3, 2, 1, 4)\n",
        "T2"
      ],
      "metadata": {
        "colab": {
          "base_uri": "https://localhost:8080/"
        },
        "id": "VERLPFSAD8F_",
        "outputId": "34325184-d4b5-4855-c5e3-9c4ea50903e1"
      },
      "execution_count": 23,
      "outputs": [
        {
          "output_type": "execute_result",
          "data": {
            "text/plain": [
              "tensor([[[[0.2460, 0.2755, 0.7618, 0.2349]],\n",
              "\n",
              "         [[0.2895, 0.6619, 0.5716, 0.1978]]],\n",
              "\n",
              "\n",
              "        [[[0.2105, 0.5444, 0.4933, 0.3812]],\n",
              "\n",
              "         [[0.3953, 0.0961, 0.6841, 0.3612]]],\n",
              "\n",
              "\n",
              "        [[[0.8869, 0.7585, 0.6975, 0.1833]],\n",
              "\n",
              "         [[0.2160, 0.3479, 0.0346, 0.4464]]]])"
            ]
          },
          "metadata": {},
          "execution_count": 23
        }
      ]
    },
    {
      "cell_type": "code",
      "source": [
        "T2.ndim, T2.shape"
      ],
      "metadata": {
        "colab": {
          "base_uri": "https://localhost:8080/"
        },
        "id": "VK3qUh3BFPYG",
        "outputId": "40b6104f-6961-42b2-af89-fa7b254686f7"
      },
      "execution_count": 24,
      "outputs": [
        {
          "output_type": "execute_result",
          "data": {
            "text/plain": [
              "(4, torch.Size([3, 2, 1, 4]))"
            ]
          },
          "metadata": {},
          "execution_count": 24
        }
      ]
    },
    {
      "cell_type": "markdown",
      "source": [
        "### Zeroes and Ones"
      ],
      "metadata": {
        "id": "Obll6XCDGkt-"
      }
    },
    {
      "cell_type": "code",
      "source": [
        "z = torch.zeros(3, 4)\n",
        "o = torch.ones(3, 4)\n",
        "z, o"
      ],
      "metadata": {
        "colab": {
          "base_uri": "https://localhost:8080/"
        },
        "id": "7nmVxBOUGCGd",
        "outputId": "5c7a1d59-d697-4d05-ad23-8bcc77477559"
      },
      "execution_count": 25,
      "outputs": [
        {
          "output_type": "execute_result",
          "data": {
            "text/plain": [
              "(tensor([[0., 0., 0., 0.],\n",
              "         [0., 0., 0., 0.],\n",
              "         [0., 0., 0., 0.]]),\n",
              " tensor([[1., 1., 1., 1.],\n",
              "         [1., 1., 1., 1.],\n",
              "         [1., 1., 1., 1.]]))"
            ]
          },
          "metadata": {},
          "execution_count": 25
        }
      ]
    },
    {
      "cell_type": "code",
      "source": [
        "z.dtype # default datatype is 32-bit integer."
      ],
      "metadata": {
        "colab": {
          "base_uri": "https://localhost:8080/"
        },
        "id": "Pn3ZZ66GHBEA",
        "outputId": "a3d13269-3415-4466-fcc6-bc97def87fa6"
      },
      "execution_count": 26,
      "outputs": [
        {
          "output_type": "execute_result",
          "data": {
            "text/plain": [
              "torch.float32"
            ]
          },
          "metadata": {},
          "execution_count": 26
        }
      ]
    },
    {
      "cell_type": "code",
      "source": [
        "V = torch.tensor([[[1,2,3],\n",
        "                  [3.0, 6.0, 7.0],\n",
        "                  [4,5,6]]])\n",
        "V"
      ],
      "metadata": {
        "id": "ht2CJVPcHC36",
        "colab": {
          "base_uri": "https://localhost:8080/"
        },
        "outputId": "9e04cdd3-c47e-40fd-ae5a-7c7c7a8944c5"
      },
      "execution_count": 27,
      "outputs": [
        {
          "output_type": "execute_result",
          "data": {
            "text/plain": [
              "tensor([[[1., 2., 3.],\n",
              "         [3., 6., 7.],\n",
              "         [4., 5., 6.]]])"
            ]
          },
          "metadata": {},
          "execution_count": 27
        }
      ]
    },
    {
      "cell_type": "code",
      "source": [
        "V.shape"
      ],
      "metadata": {
        "colab": {
          "base_uri": "https://localhost:8080/"
        },
        "id": "ficZNOFzoe0z",
        "outputId": "f424b7e2-2bf6-4856-eb5a-f57ac47deb39"
      },
      "execution_count": 28,
      "outputs": [
        {
          "output_type": "execute_result",
          "data": {
            "text/plain": [
              "torch.Size([1, 3, 3])"
            ]
          },
          "metadata": {},
          "execution_count": 28
        }
      ]
    },
    {
      "cell_type": "code",
      "source": [
        "V.ndim"
      ],
      "metadata": {
        "colab": {
          "base_uri": "https://localhost:8080/"
        },
        "id": "WbHgOV7gof2j",
        "outputId": "785b4929-11ac-4596-912e-f704e0d9fcb5"
      },
      "execution_count": 29,
      "outputs": [
        {
          "output_type": "execute_result",
          "data": {
            "text/plain": [
              "3"
            ]
          },
          "metadata": {},
          "execution_count": 29
        }
      ]
    },
    {
      "cell_type": "code",
      "source": [
        "V.size  # it's a function."
      ],
      "metadata": {
        "colab": {
          "base_uri": "https://localhost:8080/"
        },
        "id": "cC8QEJgsojNg",
        "outputId": "0b210743-722f-496e-db05-aec776a007dd"
      },
      "execution_count": 30,
      "outputs": [
        {
          "output_type": "execute_result",
          "data": {
            "text/plain": [
              "<function Tensor.size>"
            ]
          },
          "metadata": {},
          "execution_count": 30
        }
      ]
    },
    {
      "cell_type": "code",
      "source": [
        "data_type = V.dtype\n",
        "print(data_type)"
      ],
      "metadata": {
        "colab": {
          "base_uri": "https://localhost:8080/"
        },
        "id": "r1wMrD6-omGQ",
        "outputId": "3128eacf-7317-4942-a9f3-9aeb81da9d5e"
      },
      "execution_count": 31,
      "outputs": [
        {
          "output_type": "stream",
          "name": "stdout",
          "text": [
            "torch.float32\n"
          ]
        }
      ]
    },
    {
      "cell_type": "markdown",
      "source": [
        "### Random Tensors\n"
      ],
      "metadata": {
        "id": "mRMpliJ4OG07"
      }
    },
    {
      "cell_type": "code",
      "source": [
        "random_tensor = torch.rand(size=(2,4,3))\n",
        "random_tensor\n"
      ],
      "metadata": {
        "colab": {
          "base_uri": "https://localhost:8080/"
        },
        "id": "RMiIinCYOJqo",
        "outputId": "1ee63cff-9894-4c74-aa0d-2261bc566b5b"
      },
      "execution_count": 32,
      "outputs": [
        {
          "output_type": "execute_result",
          "data": {
            "text/plain": [
              "tensor([[[0.5376, 0.7587, 0.5079],\n",
              "         [0.1110, 0.0173, 0.2213],\n",
              "         [0.0520, 0.7347, 0.8629],\n",
              "         [0.3263, 0.7959, 0.2495]],\n",
              "\n",
              "        [[0.3217, 0.9846, 0.0346],\n",
              "         [0.4177, 0.9148, 0.4932],\n",
              "         [0.0982, 0.7732, 0.4667],\n",
              "         [0.1376, 0.9838, 0.3216]]])"
            ]
          },
          "metadata": {},
          "execution_count": 32
        }
      ]
    },
    {
      "cell_type": "code",
      "source": [
        "random_tensor.dtype"
      ],
      "metadata": {
        "colab": {
          "base_uri": "https://localhost:8080/"
        },
        "id": "0xIAhuTFOTi3",
        "outputId": "ea29519a-2f68-4066-eaff-37708f20b005"
      },
      "execution_count": 33,
      "outputs": [
        {
          "output_type": "execute_result",
          "data": {
            "text/plain": [
              "torch.float32"
            ]
          },
          "metadata": {},
          "execution_count": 33
        }
      ]
    },
    {
      "cell_type": "code",
      "source": [
        "B1 = torch.empty(3,2)\n",
        "B1"
      ],
      "metadata": {
        "colab": {
          "base_uri": "https://localhost:8080/"
        },
        "id": "U-2ABfoVZv7l",
        "outputId": "8cddbbb7-2251-4858-b63e-c32efb7dceb8"
      },
      "execution_count": 34,
      "outputs": [
        {
          "output_type": "execute_result",
          "data": {
            "text/plain": [
              "tensor([[-6.2567e+31,  4.3536e-41],\n",
              "        [-6.2567e+31,  4.3536e-41],\n",
              "        [ 4.4842e-44,  0.0000e+00]])"
            ]
          },
          "metadata": {},
          "execution_count": 34
        }
      ]
    },
    {
      "cell_type": "code",
      "source": [
        "B1_zeros = torch.zeros_like(B1)\n",
        "B1_zeros"
      ],
      "metadata": {
        "colab": {
          "base_uri": "https://localhost:8080/"
        },
        "id": "TesdF8QuZ1Ee",
        "outputId": "a0da7342-9d76-4a5f-821a-dca54448484c"
      },
      "execution_count": 35,
      "outputs": [
        {
          "output_type": "execute_result",
          "data": {
            "text/plain": [
              "tensor([[0., 0.],\n",
              "        [0., 0.],\n",
              "        [0., 0.]])"
            ]
          },
          "metadata": {},
          "execution_count": 35
        }
      ]
    },
    {
      "cell_type": "code",
      "source": [
        "B2 = torch.arange(start=1, end = 11, step =  2)\n",
        "B2"
      ],
      "metadata": {
        "colab": {
          "base_uri": "https://localhost:8080/"
        },
        "id": "RApCTH3Uan1Y",
        "outputId": "275c6935-6c67-4803-da03-d7d7cd864f9f"
      },
      "execution_count": 36,
      "outputs": [
        {
          "output_type": "execute_result",
          "data": {
            "text/plain": [
              "tensor([1, 3, 5, 7, 9])"
            ]
          },
          "metadata": {},
          "execution_count": 36
        }
      ]
    },
    {
      "cell_type": "code",
      "source": [
        "B3 = torch.tensor([3.0, 6.0, 9.0], dtype = None, device = None, requires_grad = False)"
      ],
      "metadata": {
        "id": "7M-NdmgkbAyG"
      },
      "execution_count": 37,
      "outputs": []
    },
    {
      "cell_type": "code",
      "source": [
        "B3.dtype"
      ],
      "metadata": {
        "colab": {
          "base_uri": "https://localhost:8080/"
        },
        "id": "QUBFe1WMcdCH",
        "outputId": "880e584f-b92b-4599-f968-5f2978722277"
      },
      "execution_count": 38,
      "outputs": [
        {
          "output_type": "execute_result",
          "data": {
            "text/plain": [
              "torch.float32"
            ]
          },
          "metadata": {},
          "execution_count": 38
        }
      ]
    },
    {
      "cell_type": "code",
      "source": [
        "B3 = B3.type(torch.float16)\n",
        "B3"
      ],
      "metadata": {
        "colab": {
          "base_uri": "https://localhost:8080/"
        },
        "id": "7o1_bpalhyC7",
        "outputId": "a5f6c835-01ea-459f-f639-56004caeae8f"
      },
      "execution_count": 39,
      "outputs": [
        {
          "output_type": "execute_result",
          "data": {
            "text/plain": [
              "tensor([3., 6., 9.], dtype=torch.float16)"
            ]
          },
          "metadata": {},
          "execution_count": 39
        }
      ]
    },
    {
      "cell_type": "code",
      "source": [
        "B4 = torch.tensor([1,2,3], dtype=torch.uint8)"
      ],
      "metadata": {
        "id": "L8nk7V74iCCy"
      },
      "execution_count": 40,
      "outputs": []
    },
    {
      "cell_type": "code",
      "source": [
        "B3 * B4  # here tensors with two different data types are getting multiplied together."
      ],
      "metadata": {
        "colab": {
          "base_uri": "https://localhost:8080/"
        },
        "id": "3MTlTke2jx9u",
        "outputId": "7ac21ef5-d524-4be3-f0bc-e21fdf8d35bb"
      },
      "execution_count": 41,
      "outputs": [
        {
          "output_type": "execute_result",
          "data": {
            "text/plain": [
              "tensor([ 3., 12., 27.], dtype=torch.float16)"
            ]
          },
          "metadata": {},
          "execution_count": 41
        }
      ]
    },
    {
      "cell_type": "markdown",
      "source": [
        "### Manipulating tensors"
      ],
      "metadata": {
        "id": "txOsRGEBmBBu"
      }
    },
    {
      "cell_type": "code",
      "source": [
        "sample_tensor = torch.tensor([1,3,4])\n",
        "# Addition\n",
        "sample_tensor + 10"
      ],
      "metadata": {
        "colab": {
          "base_uri": "https://localhost:8080/"
        },
        "id": "3Qu4xu_-kF9Q",
        "outputId": "c2fee932-aeeb-4d81-b1b6-d5d885aece96"
      },
      "execution_count": 42,
      "outputs": [
        {
          "output_type": "execute_result",
          "data": {
            "text/plain": [
              "tensor([11, 13, 14])"
            ]
          },
          "metadata": {},
          "execution_count": 42
        }
      ]
    },
    {
      "cell_type": "code",
      "source": [
        "# Subtraction\n",
        "sample_tensor - 10"
      ],
      "metadata": {
        "colab": {
          "base_uri": "https://localhost:8080/"
        },
        "id": "SBVe9RzXm5VC",
        "outputId": "17bb0e49-66c7-46fe-875b-09bcc2f5b99c"
      },
      "execution_count": 43,
      "outputs": [
        {
          "output_type": "execute_result",
          "data": {
            "text/plain": [
              "tensor([-9, -7, -6])"
            ]
          },
          "metadata": {},
          "execution_count": 43
        }
      ]
    },
    {
      "cell_type": "code",
      "source": [
        "# Multiplication\n",
        "sample_tensor * 10\n"
      ],
      "metadata": {
        "colab": {
          "base_uri": "https://localhost:8080/"
        },
        "id": "c6NwHc_SnRNJ",
        "outputId": "a7d2d5fc-de2f-417c-f0f6-1c39b1c66652"
      },
      "execution_count": 44,
      "outputs": [
        {
          "output_type": "execute_result",
          "data": {
            "text/plain": [
              "tensor([10, 30, 40])"
            ]
          },
          "metadata": {},
          "execution_count": 44
        }
      ]
    },
    {
      "cell_type": "code",
      "source": [
        "# Division\n",
        "sample_tensor / 10"
      ],
      "metadata": {
        "colab": {
          "base_uri": "https://localhost:8080/"
        },
        "id": "Xd6X7XernTWu",
        "outputId": "3411337f-febf-4d35-adaf-eacb9a83798e"
      },
      "execution_count": 45,
      "outputs": [
        {
          "output_type": "execute_result",
          "data": {
            "text/plain": [
              "tensor([0.1000, 0.3000, 0.4000])"
            ]
          },
          "metadata": {},
          "execution_count": 45
        }
      ]
    },
    {
      "cell_type": "code",
      "source": [
        "# Element Multiplication\n",
        "some_tensor = torch.tensor([1, 2, 3])\n",
        "some_tensor * some_tensor\n"
      ],
      "metadata": {
        "colab": {
          "base_uri": "https://localhost:8080/"
        },
        "id": "VYFbW3A8nVv_",
        "outputId": "90687196-50e7-46d0-935a-b6f9f99bdccf"
      },
      "execution_count": 46,
      "outputs": [
        {
          "output_type": "execute_result",
          "data": {
            "text/plain": [
              "tensor([1, 4, 9])"
            ]
          },
          "metadata": {},
          "execution_count": 46
        }
      ]
    },
    {
      "cell_type": "code",
      "source": [
        "# Matrix Multiplication or Dot Product\n",
        "some_tensor.matmul(some_tensor)"
      ],
      "metadata": {
        "colab": {
          "base_uri": "https://localhost:8080/"
        },
        "id": "ANASwbEIpYT6",
        "outputId": "d916a644-997c-4cae-dd71-a9c0bb1e71b5"
      },
      "execution_count": 47,
      "outputs": [
        {
          "output_type": "execute_result",
          "data": {
            "text/plain": [
              "tensor(14)"
            ]
          },
          "metadata": {},
          "execution_count": 47
        }
      ]
    },
    {
      "cell_type": "code",
      "source": [
        "%%time\n",
        "v = 0\n",
        "for i in range(len(some_tensor)):\n",
        "  v += some_tensor[i] * some_tensor[i]\n",
        "v"
      ],
      "metadata": {
        "colab": {
          "base_uri": "https://localhost:8080/"
        },
        "id": "TxuqOLrdpgat",
        "outputId": "19b1fad9-ffc2-44bb-fdc2-8a48d475098a"
      },
      "execution_count": 48,
      "outputs": [
        {
          "output_type": "stream",
          "name": "stdout",
          "text": [
            "CPU times: user 553 µs, sys: 0 ns, total: 553 µs\n",
            "Wall time: 1.2 ms\n"
          ]
        },
        {
          "output_type": "execute_result",
          "data": {
            "text/plain": [
              "tensor(14)"
            ]
          },
          "metadata": {},
          "execution_count": 48
        }
      ]
    },
    {
      "cell_type": "code",
      "source": [
        "%%time\n",
        "torch.matmul(some_tensor, some_tensor)"
      ],
      "metadata": {
        "colab": {
          "base_uri": "https://localhost:8080/"
        },
        "id": "LgoGaw77rfoO",
        "outputId": "58f4b727-7c7b-4982-eb2b-ddb36c0ebc95"
      },
      "execution_count": 49,
      "outputs": [
        {
          "output_type": "stream",
          "name": "stdout",
          "text": [
            "CPU times: user 95 µs, sys: 13 µs, total: 108 µs\n",
            "Wall time: 113 µs\n"
          ]
        },
        {
          "output_type": "execute_result",
          "data": {
            "text/plain": [
              "tensor(14)"
            ]
          },
          "metadata": {},
          "execution_count": 49
        }
      ]
    },
    {
      "cell_type": "code",
      "source": [
        "torch.matmul(torch.rand(3,2), torch.rand(2,4))"
      ],
      "metadata": {
        "colab": {
          "base_uri": "https://localhost:8080/"
        },
        "id": "nDov_99_rlzT",
        "outputId": "5b4c70da-f119-468f-efbc-64d2cf721602"
      },
      "execution_count": 50,
      "outputs": [
        {
          "output_type": "execute_result",
          "data": {
            "text/plain": [
              "tensor([[0.6571, 0.5605, 0.4646, 0.3590],\n",
              "        [0.0587, 0.0423, 0.0437, 0.0362],\n",
              "        [0.6903, 0.6705, 0.4652, 0.3339]])"
            ]
          },
          "metadata": {},
          "execution_count": 50
        }
      ]
    },
    {
      "cell_type": "code",
      "source": [
        "# One of the common ways you can remove the errors in matrix multiplication is using transpose\n",
        "C1 = torch.tensor([[1,2,2],\n",
        "                  [2,3,4]])\n",
        "C1.shape"
      ],
      "metadata": {
        "colab": {
          "base_uri": "https://localhost:8080/"
        },
        "id": "BK_bSYC3wZOz",
        "outputId": "adc5c932-7cc4-4f30-9ce0-81a008736a3f"
      },
      "execution_count": 51,
      "outputs": [
        {
          "output_type": "execute_result",
          "data": {
            "text/plain": [
              "torch.Size([2, 3])"
            ]
          },
          "metadata": {},
          "execution_count": 51
        }
      ]
    },
    {
      "cell_type": "code",
      "source": [
        "C2 = torch.tensor([[5,6,7],\n",
        "                   [7,8,9]])\n",
        "C2.shape"
      ],
      "metadata": {
        "colab": {
          "base_uri": "https://localhost:8080/"
        },
        "id": "5h28jc5TyGRA",
        "outputId": "974ede8a-9d89-404c-a0b7-ed95305a1a74"
      },
      "execution_count": 52,
      "outputs": [
        {
          "output_type": "execute_result",
          "data": {
            "text/plain": [
              "torch.Size([2, 3])"
            ]
          },
          "metadata": {},
          "execution_count": 52
        }
      ]
    },
    {
      "cell_type": "code",
      "source": [
        "# torch.matmul(c1, c2) -> this will throw error as the inner dimensions dont match\n",
        "torch.matmul(C1, C2.T)"
      ],
      "metadata": {
        "colab": {
          "base_uri": "https://localhost:8080/"
        },
        "id": "dRiFQyP8yWr7",
        "outputId": "9e0d1f6b-7d2d-45dc-b2db-024e56c2f501"
      },
      "execution_count": 53,
      "outputs": [
        {
          "output_type": "execute_result",
          "data": {
            "text/plain": [
              "tensor([[31, 41],\n",
              "        [56, 74]])"
            ]
          },
          "metadata": {},
          "execution_count": 53
        }
      ]
    },
    {
      "cell_type": "code",
      "source": [
        "C2.T, C2.T.shape"
      ],
      "metadata": {
        "colab": {
          "base_uri": "https://localhost:8080/"
        },
        "id": "W5BUQRUzysr8",
        "outputId": "e2dcfc36-8486-4539-c385-6e0eef96476a"
      },
      "execution_count": 54,
      "outputs": [
        {
          "output_type": "execute_result",
          "data": {
            "text/plain": [
              "(tensor([[5, 7],\n",
              "         [6, 8],\n",
              "         [7, 9]]),\n",
              " torch.Size([3, 2]))"
            ]
          },
          "metadata": {},
          "execution_count": 54
        }
      ]
    },
    {
      "cell_type": "code",
      "source": [
        "x = torch.arange(0, 100, 10)\n",
        "x"
      ],
      "metadata": {
        "id": "lAYgzvoSyxKS",
        "colab": {
          "base_uri": "https://localhost:8080/"
        },
        "outputId": "2fd32365-89dd-4836-87d5-d3237a6013c6"
      },
      "execution_count": 55,
      "outputs": [
        {
          "output_type": "execute_result",
          "data": {
            "text/plain": [
              "tensor([ 0, 10, 20, 30, 40, 50, 60, 70, 80, 90])"
            ]
          },
          "metadata": {},
          "execution_count": 55
        }
      ]
    },
    {
      "cell_type": "code",
      "source": [
        "x.min()"
      ],
      "metadata": {
        "colab": {
          "base_uri": "https://localhost:8080/"
        },
        "id": "yYKGH5Q6q2DT",
        "outputId": "a3ec21a5-1298-40a1-e57d-336befa4de0e"
      },
      "execution_count": 56,
      "outputs": [
        {
          "output_type": "execute_result",
          "data": {
            "text/plain": [
              "tensor(0)"
            ]
          },
          "metadata": {},
          "execution_count": 56
        }
      ]
    },
    {
      "cell_type": "code",
      "source": [
        "torch.max(x)"
      ],
      "metadata": {
        "colab": {
          "base_uri": "https://localhost:8080/"
        },
        "id": "1_gzqRhTq9kW",
        "outputId": "a5c9e981-37d4-4c9c-cb4c-f329335d763e"
      },
      "execution_count": 57,
      "outputs": [
        {
          "output_type": "execute_result",
          "data": {
            "text/plain": [
              "tensor(90)"
            ]
          },
          "metadata": {},
          "execution_count": 57
        }
      ]
    },
    {
      "cell_type": "code",
      "source": [
        "torch.mean(x.type(torch.float32))"
      ],
      "metadata": {
        "colab": {
          "base_uri": "https://localhost:8080/"
        },
        "id": "7ls4TeYGq_xa",
        "outputId": "c0806aa4-c8b7-48d7-f7c0-e7863d4356e5"
      },
      "execution_count": 58,
      "outputs": [
        {
          "output_type": "execute_result",
          "data": {
            "text/plain": [
              "tensor(45.)"
            ]
          },
          "metadata": {},
          "execution_count": 58
        }
      ]
    },
    {
      "cell_type": "code",
      "source": [],
      "metadata": {
        "id": "zlDUqgnuruhX"
      },
      "execution_count": null,
      "outputs": []
    }
  ]
}