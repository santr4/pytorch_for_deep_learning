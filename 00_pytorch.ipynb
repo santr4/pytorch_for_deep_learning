{
  "nbformat": 4,
  "nbformat_minor": 0,
  "metadata": {
    "colab": {
      "provenance": [],
      "authorship_tag": "ABX9TyMJH2qz5uXzjWK3L2yTV3I7",
      "include_colab_link": true
    },
    "kernelspec": {
      "name": "python3",
      "display_name": "Python 3"
    },
    "language_info": {
      "name": "python"
    }
  },
  "cells": [
    {
      "cell_type": "markdown",
      "metadata": {
        "id": "view-in-github",
        "colab_type": "text"
      },
      "source": [
        "<a href=\"https://colab.research.google.com/github/santr4/pytorch_for_deep_learning/blob/main/00_pytorch.ipynb\" target=\"_parent\"><img src=\"https://colab.research.google.com/assets/colab-badge.svg\" alt=\"Open In Colab\"/></a>"
      ]
    },
    {
      "cell_type": "code",
      "execution_count": 37,
      "metadata": {
        "colab": {
          "base_uri": "https://localhost:8080/"
        },
        "id": "TbzRgFUzpe4L",
        "outputId": "b3171802-c9f5-487c-cdc9-8522725d4c7a"
      },
      "outputs": [
        {
          "output_type": "stream",
          "name": "stdout",
          "text": [
            "2.5.1+cu121\n"
          ]
        }
      ],
      "source": [
        "import torch\n",
        "import numpy as np\n",
        "import pandas as pd\n",
        "import matplotlib.pyplot as plt\n",
        "print(torch.__version__)"
      ]
    },
    {
      "cell_type": "code",
      "source": [
        "!nvidia-smi"
      ],
      "metadata": {
        "colab": {
          "base_uri": "https://localhost:8080/"
        },
        "id": "H3BbOTyOqCaJ",
        "outputId": "c59c3e90-299d-4cf2-8513-a11aebdf9072"
      },
      "execution_count": 38,
      "outputs": [
        {
          "output_type": "stream",
          "name": "stdout",
          "text": [
            "/bin/bash: line 1: nvidia-smi: command not found\n"
          ]
        }
      ]
    },
    {
      "cell_type": "markdown",
      "source": [
        "# Introduction to Tensors"
      ],
      "metadata": {
        "id": "fwUSVscHs0zZ"
      }
    },
    {
      "cell_type": "markdown",
      "source": [
        "## creating tensors"
      ],
      "metadata": {
        "id": "-xZpuTE3s7se"
      }
    },
    {
      "cell_type": "code",
      "source": [
        "# scalar -> it is a 0D tensor which can contain anything like an integer, float, etc.\n",
        "scalar = torch.tensor(7)\n",
        "scalar"
      ],
      "metadata": {
        "colab": {
          "base_uri": "https://localhost:8080/"
        },
        "id": "PtTgenw_sJNB",
        "outputId": "17f20233-a243-445f-80e7-2e726f486748"
      },
      "execution_count": 39,
      "outputs": [
        {
          "output_type": "execute_result",
          "data": {
            "text/plain": [
              "tensor(7)"
            ]
          },
          "metadata": {},
          "execution_count": 39
        }
      ]
    },
    {
      "cell_type": "code",
      "source": [
        "scalar.ndim"
      ],
      "metadata": {
        "colab": {
          "base_uri": "https://localhost:8080/"
        },
        "id": "yUqIkURwuc4L",
        "outputId": "e6a0a367-48e1-44aa-f8bc-1f9764cdf4a9"
      },
      "execution_count": 40,
      "outputs": [
        {
          "output_type": "execute_result",
          "data": {
            "text/plain": [
              "0"
            ]
          },
          "metadata": {},
          "execution_count": 40
        }
      ]
    },
    {
      "cell_type": "code",
      "source": [
        "var = np.array(3)\n",
        "print(var.ndim)"
      ],
      "metadata": {
        "colab": {
          "base_uri": "https://localhost:8080/"
        },
        "id": "3NeYi8RqwUUr",
        "outputId": "90350ccc-b3d4-48e3-b61f-36c981f5e551"
      },
      "execution_count": 41,
      "outputs": [
        {
          "output_type": "stream",
          "name": "stdout",
          "text": [
            "0\n"
          ]
        }
      ]
    },
    {
      "cell_type": "code",
      "source": [
        "# to get integer from tensor\n",
        "scalar.item()"
      ],
      "metadata": {
        "colab": {
          "base_uri": "https://localhost:8080/"
        },
        "id": "rIkH37U0wYX6",
        "outputId": "b6288ebf-85a6-4c3b-be16-7f4c46e0836d"
      },
      "execution_count": 42,
      "outputs": [
        {
          "output_type": "execute_result",
          "data": {
            "text/plain": [
              "7"
            ]
          },
          "metadata": {},
          "execution_count": 42
        }
      ]
    },
    {
      "cell_type": "code",
      "source": [
        "# vectors\n",
        "vector = torch.tensor([8,6])\n",
        "vector\n"
      ],
      "metadata": {
        "colab": {
          "base_uri": "https://localhost:8080/"
        },
        "id": "JgPv4uSHw4fJ",
        "outputId": "4551916a-4c15-4e04-d720-a07984920ea6"
      },
      "execution_count": 43,
      "outputs": [
        {
          "output_type": "execute_result",
          "data": {
            "text/plain": [
              "tensor([8, 6])"
            ]
          },
          "metadata": {},
          "execution_count": 43
        }
      ]
    },
    {
      "cell_type": "code",
      "source": [
        "vector.shape"
      ],
      "metadata": {
        "colab": {
          "base_uri": "https://localhost:8080/"
        },
        "id": "NTH6gH2Gxf-a",
        "outputId": "c8da7ba1-3450-49d7-f620-60efad8dba37"
      },
      "execution_count": 44,
      "outputs": [
        {
          "output_type": "execute_result",
          "data": {
            "text/plain": [
              "torch.Size([2])"
            ]
          },
          "metadata": {},
          "execution_count": 44
        }
      ]
    },
    {
      "cell_type": "code",
      "source": [
        "# count the number of opening square brackets in the tensor that will give the dimensions of the tensor.\n",
        "vector.ndim\n"
      ],
      "metadata": {
        "colab": {
          "base_uri": "https://localhost:8080/"
        },
        "id": "O24-Yo-kxitu",
        "outputId": "f1b63068-80b4-43e1-8e85-e5f1fb74d156"
      },
      "execution_count": 45,
      "outputs": [
        {
          "output_type": "execute_result",
          "data": {
            "text/plain": [
              "1"
            ]
          },
          "metadata": {},
          "execution_count": 45
        }
      ]
    },
    {
      "cell_type": "markdown",
      "source": [
        " For matrix and tensors we use capital letters and for vectors and scalars we use small letters."
      ],
      "metadata": {
        "id": "guX-XIeIBONp"
      }
    },
    {
      "cell_type": "code",
      "source": [
        "# matrix\n",
        "M = torch.tensor([[4,5,3],\n",
        "                  [1,2,3]])\n",
        "\n",
        "M"
      ],
      "metadata": {
        "colab": {
          "base_uri": "https://localhost:8080/"
        },
        "id": "tHvj2YXlxl5l",
        "outputId": "eaa3dfa3-ae67-4891-8bec-5ae99e65eb69"
      },
      "execution_count": 46,
      "outputs": [
        {
          "output_type": "execute_result",
          "data": {
            "text/plain": [
              "tensor([[4, 5, 3],\n",
              "        [1, 2, 3]])"
            ]
          },
          "metadata": {},
          "execution_count": 46
        }
      ]
    },
    {
      "cell_type": "code",
      "source": [
        "M.ndim"
      ],
      "metadata": {
        "colab": {
          "base_uri": "https://localhost:8080/"
        },
        "id": "SPXr5t4yy0Q8",
        "outputId": "83d67822-2490-4655-bb04-c17cd21243e1"
      },
      "execution_count": 47,
      "outputs": [
        {
          "output_type": "execute_result",
          "data": {
            "text/plain": [
              "2"
            ]
          },
          "metadata": {},
          "execution_count": 47
        }
      ]
    },
    {
      "cell_type": "code",
      "source": [
        "M.shape"
      ],
      "metadata": {
        "colab": {
          "base_uri": "https://localhost:8080/"
        },
        "id": "mw5yeeE2y5Vf",
        "outputId": "87aac42c-9822-405b-f0f7-63cc2a50a3cc"
      },
      "execution_count": 48,
      "outputs": [
        {
          "output_type": "execute_result",
          "data": {
            "text/plain": [
              "torch.Size([2, 3])"
            ]
          },
          "metadata": {},
          "execution_count": 48
        }
      ]
    },
    {
      "cell_type": "code",
      "source": [
        "M[1][2]"
      ],
      "metadata": {
        "colab": {
          "base_uri": "https://localhost:8080/"
        },
        "id": "SS-2_EzRy7oB",
        "outputId": "1679c555-7890-4e9d-a36d-edf56ee5da84"
      },
      "execution_count": 49,
      "outputs": [
        {
          "output_type": "execute_result",
          "data": {
            "text/plain": [
              "tensor(3)"
            ]
          },
          "metadata": {},
          "execution_count": 49
        }
      ]
    },
    {
      "cell_type": "code",
      "source": [
        "v = M[1][2]\n",
        "v.type()"
      ],
      "metadata": {
        "colab": {
          "base_uri": "https://localhost:8080/",
          "height": 35
        },
        "id": "Kvnv9H8CzJBa",
        "outputId": "4521e75f-9602-4d1a-a34c-8ef9f63a82ae"
      },
      "execution_count": 50,
      "outputs": [
        {
          "output_type": "execute_result",
          "data": {
            "text/plain": [
              "'torch.LongTensor'"
            ],
            "application/vnd.google.colaboratory.intrinsic+json": {
              "type": "string"
            }
          },
          "metadata": {},
          "execution_count": 50
        }
      ]
    },
    {
      "cell_type": "code",
      "source": [
        "# Tensors\n",
        "T = torch.tensor([[[3,4,5],\n",
        "                   [6,7,8],\n",
        "                   [9,8,0]]])\n",
        "T"
      ],
      "metadata": {
        "colab": {
          "base_uri": "https://localhost:8080/"
        },
        "id": "Zz5NM4i4zZX8",
        "outputId": "87bf8be5-4c96-45ec-ff24-640c9dd745ab"
      },
      "execution_count": 51,
      "outputs": [
        {
          "output_type": "execute_result",
          "data": {
            "text/plain": [
              "tensor([[[3, 4, 5],\n",
              "         [6, 7, 8],\n",
              "         [9, 8, 0]]])"
            ]
          },
          "metadata": {},
          "execution_count": 51
        }
      ]
    },
    {
      "cell_type": "code",
      "source": [
        "T.ndim"
      ],
      "metadata": {
        "colab": {
          "base_uri": "https://localhost:8080/"
        },
        "id": "OYfKFZtw0TLd",
        "outputId": "d4c51fe1-a99d-411c-fe33-d7542891f4fe"
      },
      "execution_count": 52,
      "outputs": [
        {
          "output_type": "execute_result",
          "data": {
            "text/plain": [
              "3"
            ]
          },
          "metadata": {},
          "execution_count": 52
        }
      ]
    },
    {
      "cell_type": "code",
      "source": [
        "T.shape"
      ],
      "metadata": {
        "colab": {
          "base_uri": "https://localhost:8080/"
        },
        "id": "GEO82b2Q0xiW",
        "outputId": "d043888e-9e3e-4c7a-b6bd-b864571bfd29"
      },
      "execution_count": 53,
      "outputs": [
        {
          "output_type": "execute_result",
          "data": {
            "text/plain": [
              "torch.Size([1, 3, 3])"
            ]
          },
          "metadata": {},
          "execution_count": 53
        }
      ]
    },
    {
      "cell_type": "markdown",
      "source": [
        "### random tensors"
      ],
      "metadata": {
        "id": "tByaESQ8CYC0"
      }
    },
    {
      "cell_type": "code",
      "source": [
        "random_tensor = torch.rand(4,5)\n",
        "random_tensor"
      ],
      "metadata": {
        "id": "gdYTEMsg02zS",
        "colab": {
          "base_uri": "https://localhost:8080/"
        },
        "outputId": "36aeb27c-2c31-4914-f391-ebd89b8c6c7d"
      },
      "execution_count": 54,
      "outputs": [
        {
          "output_type": "execute_result",
          "data": {
            "text/plain": [
              "tensor([[0.3946, 0.6889, 0.7214, 0.6553, 0.3566],\n",
              "        [0.8809, 0.6532, 0.5870, 0.9515, 0.8107],\n",
              "        [0.4469, 0.2213, 0.5115, 0.9000, 0.0319],\n",
              "        [0.6552, 0.1609, 0.3093, 0.4199, 0.9182]])"
            ]
          },
          "metadata": {},
          "execution_count": 54
        }
      ]
    },
    {
      "cell_type": "code",
      "source": [
        "random_tensor.ndim"
      ],
      "metadata": {
        "colab": {
          "base_uri": "https://localhost:8080/"
        },
        "id": "l_G87PPcCogj",
        "outputId": "dc21b484-8c03-4709-999b-96340133c875"
      },
      "execution_count": 55,
      "outputs": [
        {
          "output_type": "execute_result",
          "data": {
            "text/plain": [
              "2"
            ]
          },
          "metadata": {},
          "execution_count": 55
        }
      ]
    },
    {
      "cell_type": "code",
      "source": [
        "random_tensor.shape"
      ],
      "metadata": {
        "colab": {
          "base_uri": "https://localhost:8080/"
        },
        "id": "kNwRzz-GDfWF",
        "outputId": "c4e3a389-7909-4e73-d71b-34098fce9d1a"
      },
      "execution_count": 56,
      "outputs": [
        {
          "output_type": "execute_result",
          "data": {
            "text/plain": [
              "torch.Size([4, 5])"
            ]
          },
          "metadata": {},
          "execution_count": 56
        }
      ]
    },
    {
      "cell_type": "code",
      "source": [
        "# now lets see how we represent an image in tensor format.\n",
        "random_image_tensor = torch.rand(size=(256, 256, 3)) # 256 - height, 256 - width, 3 colors means 3 channels - RGB.\n",
        "random_image_tensor.shape, random_image_tensor.ndim"
      ],
      "metadata": {
        "colab": {
          "base_uri": "https://localhost:8080/"
        },
        "id": "BCN6ZPG4DiVs",
        "outputId": "e92ace5e-34fa-4765-d73a-1900e14c7c25"
      },
      "execution_count": 57,
      "outputs": [
        {
          "output_type": "execute_result",
          "data": {
            "text/plain": [
              "(torch.Size([256, 256, 3]), 3)"
            ]
          },
          "metadata": {},
          "execution_count": 57
        }
      ]
    },
    {
      "cell_type": "code",
      "source": [
        "T2 = torch.rand(3, 2, 1, 4)\n",
        "T2"
      ],
      "metadata": {
        "colab": {
          "base_uri": "https://localhost:8080/"
        },
        "id": "VERLPFSAD8F_",
        "outputId": "ee6dcbb0-8364-48af-dc93-d3c47ee59dcd"
      },
      "execution_count": 58,
      "outputs": [
        {
          "output_type": "execute_result",
          "data": {
            "text/plain": [
              "tensor([[[[0.9241, 0.3600, 0.2065, 0.8683]],\n",
              "\n",
              "         [[0.1164, 0.6994, 0.3454, 0.1463]]],\n",
              "\n",
              "\n",
              "        [[[0.8663, 0.2865, 0.9489, 0.4390]],\n",
              "\n",
              "         [[0.5837, 0.1087, 0.7271, 0.8397]]],\n",
              "\n",
              "\n",
              "        [[[0.4868, 0.1679, 0.6103, 0.3293]],\n",
              "\n",
              "         [[0.2306, 0.8581, 0.0305, 0.9586]]]])"
            ]
          },
          "metadata": {},
          "execution_count": 58
        }
      ]
    },
    {
      "cell_type": "code",
      "source": [
        "T2.ndim, T2.shape"
      ],
      "metadata": {
        "colab": {
          "base_uri": "https://localhost:8080/"
        },
        "id": "VK3qUh3BFPYG",
        "outputId": "3ec84cf1-2116-4f5a-8349-9b64f7251df4"
      },
      "execution_count": 59,
      "outputs": [
        {
          "output_type": "execute_result",
          "data": {
            "text/plain": [
              "(4, torch.Size([3, 2, 1, 4]))"
            ]
          },
          "metadata": {},
          "execution_count": 59
        }
      ]
    },
    {
      "cell_type": "markdown",
      "source": [
        "### Zeroes and Ones"
      ],
      "metadata": {
        "id": "Obll6XCDGkt-"
      }
    },
    {
      "cell_type": "code",
      "source": [
        "z = torch.zeros(3, 4)\n",
        "o = torch.ones(3, 4)\n",
        "z, o"
      ],
      "metadata": {
        "colab": {
          "base_uri": "https://localhost:8080/"
        },
        "id": "7nmVxBOUGCGd",
        "outputId": "69b7661c-b2cb-4dd7-9fbd-1d6d0dca1790"
      },
      "execution_count": 60,
      "outputs": [
        {
          "output_type": "execute_result",
          "data": {
            "text/plain": [
              "(tensor([[0., 0., 0., 0.],\n",
              "         [0., 0., 0., 0.],\n",
              "         [0., 0., 0., 0.]]),\n",
              " tensor([[1., 1., 1., 1.],\n",
              "         [1., 1., 1., 1.],\n",
              "         [1., 1., 1., 1.]]))"
            ]
          },
          "metadata": {},
          "execution_count": 60
        }
      ]
    },
    {
      "cell_type": "code",
      "source": [
        "z.dtype # default datatype is 32-bit integer."
      ],
      "metadata": {
        "colab": {
          "base_uri": "https://localhost:8080/"
        },
        "id": "Pn3ZZ66GHBEA",
        "outputId": "721670aa-efe9-47fb-ce7d-ea3b34a843f5"
      },
      "execution_count": 61,
      "outputs": [
        {
          "output_type": "execute_result",
          "data": {
            "text/plain": [
              "torch.float32"
            ]
          },
          "metadata": {},
          "execution_count": 61
        }
      ]
    },
    {
      "cell_type": "code",
      "source": [
        "V = torch.tensor([[[1,2,3],\n",
        "                  [3.0, 6.0, 7.0],\n",
        "                  [4,5,6]]])\n",
        "V"
      ],
      "metadata": {
        "id": "ht2CJVPcHC36",
        "colab": {
          "base_uri": "https://localhost:8080/"
        },
        "outputId": "b4d2fb63-b1a0-44cd-82e4-e4310c9db9a8"
      },
      "execution_count": 62,
      "outputs": [
        {
          "output_type": "execute_result",
          "data": {
            "text/plain": [
              "tensor([[[1., 2., 3.],\n",
              "         [3., 6., 7.],\n",
              "         [4., 5., 6.]]])"
            ]
          },
          "metadata": {},
          "execution_count": 62
        }
      ]
    },
    {
      "cell_type": "code",
      "source": [
        "V.shape"
      ],
      "metadata": {
        "colab": {
          "base_uri": "https://localhost:8080/"
        },
        "id": "ficZNOFzoe0z",
        "outputId": "1a5d080d-6fa0-45a0-a832-a1ade596224c"
      },
      "execution_count": 63,
      "outputs": [
        {
          "output_type": "execute_result",
          "data": {
            "text/plain": [
              "torch.Size([1, 3, 3])"
            ]
          },
          "metadata": {},
          "execution_count": 63
        }
      ]
    },
    {
      "cell_type": "code",
      "source": [
        "V.ndim"
      ],
      "metadata": {
        "colab": {
          "base_uri": "https://localhost:8080/"
        },
        "id": "WbHgOV7gof2j",
        "outputId": "e7efe977-91c5-4d51-e605-026fff7533e5"
      },
      "execution_count": 64,
      "outputs": [
        {
          "output_type": "execute_result",
          "data": {
            "text/plain": [
              "3"
            ]
          },
          "metadata": {},
          "execution_count": 64
        }
      ]
    },
    {
      "cell_type": "code",
      "source": [
        "V.size  # it's a function."
      ],
      "metadata": {
        "colab": {
          "base_uri": "https://localhost:8080/"
        },
        "id": "cC8QEJgsojNg",
        "outputId": "13c6df33-6bdb-4bd3-dbe7-ea700158fcc5"
      },
      "execution_count": 65,
      "outputs": [
        {
          "output_type": "execute_result",
          "data": {
            "text/plain": [
              "<function Tensor.size>"
            ]
          },
          "metadata": {},
          "execution_count": 65
        }
      ]
    },
    {
      "cell_type": "code",
      "source": [
        "data_type = V.dtype\n",
        "print(data_type)"
      ],
      "metadata": {
        "colab": {
          "base_uri": "https://localhost:8080/"
        },
        "id": "r1wMrD6-omGQ",
        "outputId": "e7943082-ae3b-402a-cecf-5a77206c2b3a"
      },
      "execution_count": 66,
      "outputs": [
        {
          "output_type": "stream",
          "name": "stdout",
          "text": [
            "torch.float32\n"
          ]
        }
      ]
    },
    {
      "cell_type": "markdown",
      "source": [
        "### Random Tensors\n"
      ],
      "metadata": {
        "id": "mRMpliJ4OG07"
      }
    },
    {
      "cell_type": "code",
      "source": [
        "random_tensor = torch.rand(size=(2,4,3))\n",
        "random_tensor\n"
      ],
      "metadata": {
        "colab": {
          "base_uri": "https://localhost:8080/"
        },
        "id": "RMiIinCYOJqo",
        "outputId": "92269504-2efb-493f-9f90-648a9aefea7b"
      },
      "execution_count": 67,
      "outputs": [
        {
          "output_type": "execute_result",
          "data": {
            "text/plain": [
              "tensor([[[0.2844, 0.0450, 0.7643],\n",
              "         [0.3263, 0.5201, 0.7171],\n",
              "         [0.4618, 0.4028, 0.1456],\n",
              "         [0.5309, 0.9998, 0.8341]],\n",
              "\n",
              "        [[0.3719, 0.0082, 0.8293],\n",
              "         [0.6696, 0.8221, 0.7226],\n",
              "         [0.8648, 0.0834, 0.6256],\n",
              "         [0.3831, 0.4130, 0.5196]]])"
            ]
          },
          "metadata": {},
          "execution_count": 67
        }
      ]
    },
    {
      "cell_type": "code",
      "source": [
        "random_tensor.dtype"
      ],
      "metadata": {
        "colab": {
          "base_uri": "https://localhost:8080/"
        },
        "id": "0xIAhuTFOTi3",
        "outputId": "4c1bf0e9-ddee-4eba-f89e-3dbda788e5b0"
      },
      "execution_count": 68,
      "outputs": [
        {
          "output_type": "execute_result",
          "data": {
            "text/plain": [
              "torch.float32"
            ]
          },
          "metadata": {},
          "execution_count": 68
        }
      ]
    },
    {
      "cell_type": "code",
      "source": [
        "B1 = torch.empty(3,2)\n",
        "B1"
      ],
      "metadata": {
        "colab": {
          "base_uri": "https://localhost:8080/"
        },
        "id": "U-2ABfoVZv7l",
        "outputId": "4cb7b12a-cf72-428e-d4ab-76998c917496"
      },
      "execution_count": 69,
      "outputs": [
        {
          "output_type": "execute_result",
          "data": {
            "text/plain": [
              "tensor([[2.6838e+23, 3.0764e-41],\n",
              "        [2.2200e+23, 3.0764e-41],\n",
              "        [8.9683e-44, 0.0000e+00]])"
            ]
          },
          "metadata": {},
          "execution_count": 69
        }
      ]
    },
    {
      "cell_type": "code",
      "source": [
        "B1_zeros = torch.zeros_like(B1)\n",
        "B1_zeros"
      ],
      "metadata": {
        "colab": {
          "base_uri": "https://localhost:8080/"
        },
        "id": "TesdF8QuZ1Ee",
        "outputId": "d0e246ab-673c-4ecb-f681-4924f95e87d0"
      },
      "execution_count": 71,
      "outputs": [
        {
          "output_type": "execute_result",
          "data": {
            "text/plain": [
              "tensor([[0., 0.],\n",
              "        [0., 0.],\n",
              "        [0., 0.]])"
            ]
          },
          "metadata": {},
          "execution_count": 71
        }
      ]
    },
    {
      "cell_type": "code",
      "source": [
        "B2 = torch.arange(start=1, end = 11, step =  2)\n",
        "B2"
      ],
      "metadata": {
        "colab": {
          "base_uri": "https://localhost:8080/"
        },
        "id": "RApCTH3Uan1Y",
        "outputId": "d02be0f1-86a2-40ef-ab20-35533b7b7f97"
      },
      "execution_count": 76,
      "outputs": [
        {
          "output_type": "execute_result",
          "data": {
            "text/plain": [
              "tensor([1, 3, 5, 7, 9])"
            ]
          },
          "metadata": {},
          "execution_count": 76
        }
      ]
    },
    {
      "cell_type": "code",
      "source": [
        "B3 = torch.tensor([3.0, 6.0, 9.0], dtype = None, device = None, requires_grad = False)"
      ],
      "metadata": {
        "id": "7M-NdmgkbAyG"
      },
      "execution_count": 77,
      "outputs": []
    },
    {
      "cell_type": "code",
      "source": [
        "B3.dtype"
      ],
      "metadata": {
        "colab": {
          "base_uri": "https://localhost:8080/"
        },
        "id": "QUBFe1WMcdCH",
        "outputId": "c6094829-77a6-4f2c-809b-4f2d94e413af"
      },
      "execution_count": 78,
      "outputs": [
        {
          "output_type": "execute_result",
          "data": {
            "text/plain": [
              "torch.float32"
            ]
          },
          "metadata": {},
          "execution_count": 78
        }
      ]
    },
    {
      "cell_type": "code",
      "source": [
        "B3 = B3.type(torch.float16)\n",
        "B3"
      ],
      "metadata": {
        "colab": {
          "base_uri": "https://localhost:8080/"
        },
        "id": "7o1_bpalhyC7",
        "outputId": "85515ec9-6661-491d-c3e1-efc1234628b4"
      },
      "execution_count": 79,
      "outputs": [
        {
          "output_type": "execute_result",
          "data": {
            "text/plain": [
              "tensor([3., 6., 9.], dtype=torch.float16)"
            ]
          },
          "metadata": {},
          "execution_count": 79
        }
      ]
    },
    {
      "cell_type": "code",
      "source": [
        "B4 = torch.tensor([1,2,3], dtype=torch.uint8)"
      ],
      "metadata": {
        "id": "L8nk7V74iCCy"
      },
      "execution_count": 81,
      "outputs": []
    },
    {
      "cell_type": "code",
      "source": [
        "B3 * B4  # here tensors with two different data types are getting multiplied together."
      ],
      "metadata": {
        "colab": {
          "base_uri": "https://localhost:8080/"
        },
        "id": "3MTlTke2jx9u",
        "outputId": "29356248-5ae8-444d-baba-9fe5526e695c"
      },
      "execution_count": 83,
      "outputs": [
        {
          "output_type": "execute_result",
          "data": {
            "text/plain": [
              "tensor([ 3., 12., 27.], dtype=torch.float16)"
            ]
          },
          "metadata": {},
          "execution_count": 83
        }
      ]
    },
    {
      "cell_type": "markdown",
      "source": [
        "### Manipulating tensors"
      ],
      "metadata": {
        "id": "txOsRGEBmBBu"
      }
    },
    {
      "cell_type": "code",
      "source": [
        "sample_tensor = torch.tensor([1,3,4])\n",
        "# Addition\n",
        "sample_tensor + 10"
      ],
      "metadata": {
        "colab": {
          "base_uri": "https://localhost:8080/"
        },
        "id": "3Qu4xu_-kF9Q",
        "outputId": "31deb49a-20f1-4170-beed-de713304ba77"
      },
      "execution_count": 85,
      "outputs": [
        {
          "output_type": "execute_result",
          "data": {
            "text/plain": [
              "tensor([0.1000, 0.3000, 0.4000])"
            ]
          },
          "metadata": {},
          "execution_count": 85
        }
      ]
    },
    {
      "cell_type": "code",
      "source": [
        "# Subtraction\n",
        "sample_tensor - 10"
      ],
      "metadata": {
        "colab": {
          "base_uri": "https://localhost:8080/"
        },
        "id": "SBVe9RzXm5VC",
        "outputId": "35eca66f-4657-4480-c864-ccf86511c3c4"
      },
      "execution_count": 86,
      "outputs": [
        {
          "output_type": "execute_result",
          "data": {
            "text/plain": [
              "tensor([-9, -7, -6])"
            ]
          },
          "metadata": {},
          "execution_count": 86
        }
      ]
    },
    {
      "cell_type": "code",
      "source": [
        "# Multiplication\n",
        "sample_tensor * 10\n"
      ],
      "metadata": {
        "colab": {
          "base_uri": "https://localhost:8080/"
        },
        "id": "c6NwHc_SnRNJ",
        "outputId": "d5da3c9e-1a08-47e8-eb97-829dc1220354"
      },
      "execution_count": 87,
      "outputs": [
        {
          "output_type": "execute_result",
          "data": {
            "text/plain": [
              "tensor([10, 30, 40])"
            ]
          },
          "metadata": {},
          "execution_count": 87
        }
      ]
    },
    {
      "cell_type": "code",
      "source": [
        "# Division\n",
        "sample_tensor / 10"
      ],
      "metadata": {
        "colab": {
          "base_uri": "https://localhost:8080/"
        },
        "id": "Xd6X7XernTWu",
        "outputId": "eb28e22e-deb0-4c89-c745-f2a87301192e"
      },
      "execution_count": 88,
      "outputs": [
        {
          "output_type": "execute_result",
          "data": {
            "text/plain": [
              "tensor([0.1000, 0.3000, 0.4000])"
            ]
          },
          "metadata": {},
          "execution_count": 88
        }
      ]
    },
    {
      "cell_type": "code",
      "source": [
        "# Element Multiplication\n",
        "some_tensor = torch.tensor([1, 2, 3])\n",
        "some_tensor * some_tensor\n"
      ],
      "metadata": {
        "colab": {
          "base_uri": "https://localhost:8080/"
        },
        "id": "VYFbW3A8nVv_",
        "outputId": "4baab362-45da-40cc-a74b-7738fc360340"
      },
      "execution_count": 89,
      "outputs": [
        {
          "output_type": "execute_result",
          "data": {
            "text/plain": [
              "tensor([1, 4, 9])"
            ]
          },
          "metadata": {},
          "execution_count": 89
        }
      ]
    },
    {
      "cell_type": "code",
      "source": [
        "# Matrix Multiplication or Dot Product\n",
        "some_tensor.matmul(some_tensor)"
      ],
      "metadata": {
        "colab": {
          "base_uri": "https://localhost:8080/"
        },
        "id": "ANASwbEIpYT6",
        "outputId": "9a259979-953a-46e1-b316-6ab8a6619951"
      },
      "execution_count": 90,
      "outputs": [
        {
          "output_type": "execute_result",
          "data": {
            "text/plain": [
              "tensor(14)"
            ]
          },
          "metadata": {},
          "execution_count": 90
        }
      ]
    },
    {
      "cell_type": "code",
      "source": [
        "%%time\n",
        "v = 0\n",
        "for i in range(len(some_tensor)):\n",
        "  v += some_tensor[i] * some_tensor[i]\n",
        "v"
      ],
      "metadata": {
        "colab": {
          "base_uri": "https://localhost:8080/"
        },
        "id": "TxuqOLrdpgat",
        "outputId": "85f25f63-b963-40f0-f8b5-e73d0d0d84cd"
      },
      "execution_count": 91,
      "outputs": [
        {
          "output_type": "stream",
          "name": "stdout",
          "text": [
            "CPU times: user 1.1 ms, sys: 992 µs, total: 2.09 ms\n",
            "Wall time: 6.26 ms\n"
          ]
        },
        {
          "output_type": "execute_result",
          "data": {
            "text/plain": [
              "tensor(14)"
            ]
          },
          "metadata": {},
          "execution_count": 91
        }
      ]
    },
    {
      "cell_type": "code",
      "source": [
        "%%time\n",
        "torch.matmul(some_tensor, some_tensor)"
      ],
      "metadata": {
        "colab": {
          "base_uri": "https://localhost:8080/"
        },
        "id": "LgoGaw77rfoO",
        "outputId": "b69ec368-2115-4e7f-8b08-a48383f4ec5a"
      },
      "execution_count": 92,
      "outputs": [
        {
          "output_type": "stream",
          "name": "stdout",
          "text": [
            "CPU times: user 1.23 ms, sys: 0 ns, total: 1.23 ms\n",
            "Wall time: 1.25 ms\n"
          ]
        },
        {
          "output_type": "execute_result",
          "data": {
            "text/plain": [
              "tensor(14)"
            ]
          },
          "metadata": {},
          "execution_count": 92
        }
      ]
    },
    {
      "cell_type": "code",
      "source": [
        "torch.matmul(torch.rand(3,2), torch.rand(2,4))"
      ],
      "metadata": {
        "colab": {
          "base_uri": "https://localhost:8080/"
        },
        "id": "nDov_99_rlzT",
        "outputId": "8efcc515-a4c6-401c-b5d0-17b6e417603e"
      },
      "execution_count": 93,
      "outputs": [
        {
          "output_type": "execute_result",
          "data": {
            "text/plain": [
              "tensor([[0.0259, 0.1133, 0.0906, 0.0695],\n",
              "        [0.2389, 0.9536, 1.0529, 0.8052],\n",
              "        [0.1456, 0.6228, 0.5421, 0.4158]])"
            ]
          },
          "metadata": {},
          "execution_count": 93
        }
      ]
    },
    {
      "cell_type": "code",
      "source": [
        "# One of the common ways you can remove the errors in matrix multiplication is using transpose\n",
        "C1 = torch.tensor([[1,2,2],\n",
        "                  [2,3,4]])\n",
        "C1.shape"
      ],
      "metadata": {
        "colab": {
          "base_uri": "https://localhost:8080/"
        },
        "id": "BK_bSYC3wZOz",
        "outputId": "fa9389e0-247e-42c6-b847-5747dca2f4f4"
      },
      "execution_count": 95,
      "outputs": [
        {
          "output_type": "execute_result",
          "data": {
            "text/plain": [
              "torch.Size([2, 3])"
            ]
          },
          "metadata": {},
          "execution_count": 95
        }
      ]
    },
    {
      "cell_type": "code",
      "source": [
        "C2 = torch.tensor([[5,6,7],\n",
        "                   [7,8,9]])\n",
        "C2.shape"
      ],
      "metadata": {
        "colab": {
          "base_uri": "https://localhost:8080/"
        },
        "id": "5h28jc5TyGRA",
        "outputId": "f806f108-4674-418c-e033-be08f95f0399"
      },
      "execution_count": 97,
      "outputs": [
        {
          "output_type": "execute_result",
          "data": {
            "text/plain": [
              "torch.Size([2, 3])"
            ]
          },
          "metadata": {},
          "execution_count": 97
        }
      ]
    },
    {
      "cell_type": "code",
      "source": [
        "# torch.matmul(c1, c2) -> this will throw error as the inner dimensions dont match\n",
        "torch.matmul(C1, C2.T)"
      ],
      "metadata": {
        "colab": {
          "base_uri": "https://localhost:8080/"
        },
        "id": "dRiFQyP8yWr7",
        "outputId": "6d290744-6e1f-479d-f8be-687355809323"
      },
      "execution_count": 99,
      "outputs": [
        {
          "output_type": "execute_result",
          "data": {
            "text/plain": [
              "tensor([[31, 41],\n",
              "        [56, 74]])"
            ]
          },
          "metadata": {},
          "execution_count": 99
        }
      ]
    },
    {
      "cell_type": "code",
      "source": [
        "C2.T, C2.T.shape"
      ],
      "metadata": {
        "colab": {
          "base_uri": "https://localhost:8080/"
        },
        "id": "W5BUQRUzysr8",
        "outputId": "dc19cbec-38c8-402f-f23f-55bab793bb3e"
      },
      "execution_count": 101,
      "outputs": [
        {
          "output_type": "execute_result",
          "data": {
            "text/plain": [
              "(tensor([[5, 7],\n",
              "         [6, 8],\n",
              "         [7, 9]]),\n",
              " torch.Size([3, 2]))"
            ]
          },
          "metadata": {},
          "execution_count": 101
        }
      ]
    },
    {
      "cell_type": "code",
      "source": [],
      "metadata": {
        "id": "lAYgzvoSyxKS"
      },
      "execution_count": null,
      "outputs": []
    }
  ]
}