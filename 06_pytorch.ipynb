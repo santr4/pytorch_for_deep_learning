{
 "cells": [
  {
   "cell_type": "markdown",
   "metadata": {},
   "source": [
    "Gradient Descent - using pytorch"
   ]
  },
  {
   "cell_type": "code",
   "execution_count": 7,
   "metadata": {},
   "outputs": [],
   "source": [
    "import torch"
   ]
  },
  {
   "cell_type": "code",
   "execution_count": 8,
   "metadata": {},
   "outputs": [],
   "source": [
    "# X = torch.tensor([1, 2, 3, 4], dtype=torch.float32)\n",
    "Y = torch.tensor([2, 4, 6, 8], dtype=torch.float32)\n",
    "\n",
    "w = torch.tensor(0.0, dtype=torch.float32, requires_grad=True)"
   ]
  },
  {
   "cell_type": "code",
   "execution_count": 9,
   "metadata": {},
   "outputs": [
    {
     "name": "stdout",
     "output_type": "stream",
     "text": [
      "prediction before training : f(5) = 0.000\n"
     ]
    }
   ],
   "source": [
    "# model prediction\n",
    "def forward(x):\n",
    "    return w * x\n",
    "\n",
    "# loss = MSE\n",
    "def loss(y, y_pred):\n",
    "    return ((y - y_pred) ** 2).mean()\n",
    "\n",
    "print(f'prediction before training : f(5) = {forward(5):.3f}')"
   ]
  },
  {
   "cell_type": "code",
   "execution_count": 10,
   "metadata": {},
   "outputs": [
    {
     "name": "stdout",
     "output_type": "stream",
     "text": [
      "iteration 1: w = 0.300, l = 30.00000000\n",
      "iteration 3: w = 0.772, l = 15.66018772\n",
      "iteration 5: w = 1.113, l = 8.17471695\n",
      "iteration 7: w = 1.359, l = 4.26725292\n",
      "iteration 9: w = 1.537, l = 2.22753215\n",
      "iteration 11: w = 1.665, l = 1.16278565\n",
      "iteration 13: w = 1.758, l = 0.60698116\n",
      "iteration 15: w = 1.825, l = 0.31684780\n",
      "iteration 17: w = 1.874, l = 0.16539653\n",
      "iteration 19: w = 1.909, l = 0.08633806\n",
      "prediction after training : f(5) = 9.612\n"
     ]
    }
   ],
   "source": [
    "# model training\n",
    "\n",
    "learning_rate = 0.01\n",
    "n_iters = 20\n",
    "\n",
    "for i in range(n_iters):\n",
    "    y_pred = forward(X)\n",
    "\n",
    "    l = loss(Y, y_pred)\n",
    "\n",
    "    # to calculate gradients\n",
    "    l.backward()\n",
    "\n",
    "    # update weights\n",
    "    with torch.no_grad():\n",
    "        w -= (learning_rate * w.grad)\n",
    "    \n",
    "    # zero gradients - so that pytorch does not accumulate gradients\n",
    "    w.grad.zero_()\n",
    "\n",
    "    if i % 2 == 0:\n",
    "        print(f'iteration {i+1}: w = {w:.3f}, l = {l:.8f}')\n",
    "\n",
    "print(f'prediction after training : f(5) = {forward(5):.3f}')"
   ]
  },
  {
   "cell_type": "code",
   "execution_count": null,
   "metadata": {},
   "outputs": [],
   "source": []
  }
 ],
 "metadata": {
  "kernelspec": {
   "display_name": "pytorch",
   "language": "python",
   "name": "python3"
  },
  "language_info": {
   "codemirror_mode": {
    "name": "ipython",
    "version": 3
   },
   "file_extension": ".py",
   "mimetype": "text/x-python",
   "name": "python",
   "nbconvert_exporter": "python",
   "pygments_lexer": "ipython3",
   "version": "3.12.8"
  }
 },
 "nbformat": 4,
 "nbformat_minor": 2
}
