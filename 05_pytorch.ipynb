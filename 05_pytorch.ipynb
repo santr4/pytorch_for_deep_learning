{
 "cells": [
  {
   "cell_type": "markdown",
   "metadata": {},
   "source": [
    "Gradient Descent - using numpy"
   ]
  },
  {
   "cell_type": "code",
   "execution_count": 18,
   "metadata": {},
   "outputs": [],
   "source": [
    "import numpy as np"
   ]
  },
  {
   "cell_type": "code",
   "execution_count": 19,
   "metadata": {},
   "outputs": [],
   "source": [
    "# f = w * x\n",
    "# f = 2 * x\n",
    "X = np.array([1, 2, 3, 4], dtype=np.float32)\n",
    "Y = np.array([2, 4, 6, 8], dtype=np.float32)\n",
    "\n",
    "w = 0.0"
   ]
  },
  {
   "cell_type": "code",
   "execution_count": 20,
   "metadata": {},
   "outputs": [],
   "source": [
    "# model prediction\n",
    "def forward(x):\n",
    "    return w * x"
   ]
  },
  {
   "cell_type": "code",
   "execution_count": 21,
   "metadata": {},
   "outputs": [],
   "source": [
    "# loss = MSE\n",
    "def loss(y, y_pred):\n",
    "    return ((y_pred - y)**2).mean()"
   ]
  },
  {
   "cell_type": "code",
   "execution_count": 22,
   "metadata": {},
   "outputs": [
    {
     "name": "stdout",
     "output_type": "stream",
     "text": [
      "Prediction before training: f(5) = 0.000\n"
     ]
    }
   ],
   "source": [
    "# gradient\n",
    "# MSE = 1/N * (w*x - y) ** 2\n",
    "# dJ/dw = 1/N * 2 * (w*x - y) * x\n",
    "def gradient(x, y, y_pred):\n",
    "    return np.dot(2*x, y_pred - y)/len(x)\n",
    "\n",
    "print(f'Prediction before training: f(5) = {forward(5):.3f}')"
   ]
  },
  {
   "cell_type": "code",
   "execution_count": 26,
   "metadata": {},
   "outputs": [
    {
     "name": "stdout",
     "output_type": "stream",
     "text": [
      "-0.008873105\n",
      "epoch1: w = 1.999, loss = 0.00000262\n",
      "-0.0075427294\n",
      "-0.0064106584\n",
      "-0.0054482818\n",
      "epoch4: w = 2.000, loss = 0.00000099\n",
      "-0.0046309233\n",
      "-0.0039378405\n",
      "-0.0033473969\n",
      "epoch7: w = 2.000, loss = 0.00000037\n",
      "-0.0028447509\n",
      "-0.0024175644\n",
      "-0.002054751\n",
      "epoch10: w = 2.000, loss = 0.00000014\n",
      "-0.001747191\n",
      "-0.001483798\n",
      "-0.001262784\n",
      "epoch13: w = 2.000, loss = 0.00000005\n",
      "-0.0010728836\n",
      "-0.00091159344\n",
      "-0.0007764101\n",
      "epoch16: w = 2.000, loss = 0.00000002\n",
      "-0.00066000223\n",
      "-0.0005618334\n",
      "-0.0004772544\n",
      "epoch19: w = 2.000, loss = 0.00000001\n",
      "-0.00040572882\n",
      "prediction after training: f(5) = 10.000\n"
     ]
    }
   ],
   "source": [
    "# Training\n",
    "learning_rate = 0.01\n",
    "n_iters = 20\n",
    "\n",
    "for i in range(n_iters):\n",
    "    # prediction = forward pass\n",
    "    y_pred = forward(X)\n",
    "\n",
    "    # loss\n",
    "    l = loss(Y, y_pred)\n",
    "    # print(l)\n",
    "\n",
    "    # gradients\n",
    "    dw = gradient(X, Y, y_pred)\n",
    "    print(dw)\n",
    "\n",
    "    # update weights\n",
    "    w -= (learning_rate * dw)\n",
    "\n",
    "    if i % 3 == 0:\n",
    "        print(f'epoch{i+1}: w = {w:.3f}, loss = {l:.8f}')\n",
    "\n",
    "print(f'prediction after training: f(5) = {forward(5):.3f}')"
   ]
  }
 ],
 "metadata": {
  "kernelspec": {
   "display_name": "pytorch",
   "language": "python",
   "name": "python3"
  },
  "language_info": {
   "codemirror_mode": {
    "name": "ipython",
    "version": 3
   },
   "file_extension": ".py",
   "mimetype": "text/x-python",
   "name": "python",
   "nbconvert_exporter": "python",
   "pygments_lexer": "ipython3",
   "version": "3.12.8"
  }
 },
 "nbformat": 4,
 "nbformat_minor": 2
}
